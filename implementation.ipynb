{
 "cells": [
  {
   "cell_type": "markdown",
   "id": "ef3a86e5",
   "metadata": {},
   "source": [
    "# import libraries and data "
   ]
  },
  {
   "cell_type": "code",
   "execution_count": null,
   "id": "be95d0ed",
   "metadata": {},
   "outputs": [],
   "source": [
    "import pandas as pd\n",
    "import numpy as np"
   ]
  },
  {
   "cell_type": "code",
   "execution_count": 2,
   "id": "9b329153",
   "metadata": {},
   "outputs": [],
   "source": [
    "data = pd.read_csv('data.csv')"
   ]
  },
  {
   "cell_type": "code",
   "execution_count": 3,
   "id": "545a4fbd",
   "metadata": {},
   "outputs": [
    {
     "data": {
      "text/plain": [
       "(20972, 9)"
      ]
     },
     "execution_count": 3,
     "metadata": {},
     "output_type": "execute_result"
    }
   ],
   "source": [
    "data.shape"
   ]
  },
  {
   "cell_type": "code",
   "execution_count": null,
   "id": "6c8660d2",
   "metadata": {},
   "outputs": [],
   "source": []
  },
  {
   "cell_type": "code",
   "execution_count": 4,
   "id": "94bf9221",
   "metadata": {},
   "outputs": [
    {
     "data": {
      "text/html": [
       "<div>\n",
       "<style scoped>\n",
       "    .dataframe tbody tr th:only-of-type {\n",
       "        vertical-align: middle;\n",
       "    }\n",
       "\n",
       "    .dataframe tbody tr th {\n",
       "        vertical-align: top;\n",
       "    }\n",
       "\n",
       "    .dataframe thead th {\n",
       "        text-align: right;\n",
       "    }\n",
       "</style>\n",
       "<table border=\"1\" class=\"dataframe\">\n",
       "  <thead>\n",
       "    <tr style=\"text-align: right;\">\n",
       "      <th></th>\n",
       "      <th>ID</th>\n",
       "      <th>TITLE</th>\n",
       "      <th>ABSTRACT</th>\n",
       "      <th>Computer Science</th>\n",
       "      <th>Physics</th>\n",
       "      <th>Mathematics</th>\n",
       "      <th>Statistics</th>\n",
       "      <th>Quantitative Biology</th>\n",
       "      <th>Quantitative Finance</th>\n",
       "    </tr>\n",
       "  </thead>\n",
       "  <tbody>\n",
       "    <tr>\n",
       "      <th>0</th>\n",
       "      <td>1</td>\n",
       "      <td>Reconstructing Subject-Specific Effect Maps</td>\n",
       "      <td>Predictive models allow subject-specific inf...</td>\n",
       "      <td>1</td>\n",
       "      <td>0</td>\n",
       "      <td>0</td>\n",
       "      <td>0</td>\n",
       "      <td>0</td>\n",
       "      <td>0</td>\n",
       "    </tr>\n",
       "    <tr>\n",
       "      <th>1</th>\n",
       "      <td>2</td>\n",
       "      <td>Rotation Invariance Neural Network</td>\n",
       "      <td>Rotation invariance and translation invarian...</td>\n",
       "      <td>1</td>\n",
       "      <td>0</td>\n",
       "      <td>0</td>\n",
       "      <td>0</td>\n",
       "      <td>0</td>\n",
       "      <td>0</td>\n",
       "    </tr>\n",
       "    <tr>\n",
       "      <th>2</th>\n",
       "      <td>3</td>\n",
       "      <td>Spherical polyharmonics and Poisson kernels fo...</td>\n",
       "      <td>We introduce and develop the notion of spher...</td>\n",
       "      <td>0</td>\n",
       "      <td>0</td>\n",
       "      <td>1</td>\n",
       "      <td>0</td>\n",
       "      <td>0</td>\n",
       "      <td>0</td>\n",
       "    </tr>\n",
       "    <tr>\n",
       "      <th>3</th>\n",
       "      <td>4</td>\n",
       "      <td>A finite element approximation for the stochas...</td>\n",
       "      <td>The stochastic Landau--Lifshitz--Gilbert (LL...</td>\n",
       "      <td>0</td>\n",
       "      <td>0</td>\n",
       "      <td>1</td>\n",
       "      <td>0</td>\n",
       "      <td>0</td>\n",
       "      <td>0</td>\n",
       "    </tr>\n",
       "    <tr>\n",
       "      <th>4</th>\n",
       "      <td>5</td>\n",
       "      <td>Comparative study of Discrete Wavelet Transfor...</td>\n",
       "      <td>Fourier-transform infra-red (FTIR) spectra o...</td>\n",
       "      <td>1</td>\n",
       "      <td>0</td>\n",
       "      <td>0</td>\n",
       "      <td>1</td>\n",
       "      <td>0</td>\n",
       "      <td>0</td>\n",
       "    </tr>\n",
       "  </tbody>\n",
       "</table>\n",
       "</div>"
      ],
      "text/plain": [
       "   ID                                              TITLE  \\\n",
       "0   1        Reconstructing Subject-Specific Effect Maps   \n",
       "1   2                 Rotation Invariance Neural Network   \n",
       "2   3  Spherical polyharmonics and Poisson kernels fo...   \n",
       "3   4  A finite element approximation for the stochas...   \n",
       "4   5  Comparative study of Discrete Wavelet Transfor...   \n",
       "\n",
       "                                            ABSTRACT  Computer Science  \\\n",
       "0    Predictive models allow subject-specific inf...                 1   \n",
       "1    Rotation invariance and translation invarian...                 1   \n",
       "2    We introduce and develop the notion of spher...                 0   \n",
       "3    The stochastic Landau--Lifshitz--Gilbert (LL...                 0   \n",
       "4    Fourier-transform infra-red (FTIR) spectra o...                 1   \n",
       "\n",
       "   Physics  Mathematics  Statistics  Quantitative Biology  \\\n",
       "0        0            0           0                     0   \n",
       "1        0            0           0                     0   \n",
       "2        0            1           0                     0   \n",
       "3        0            1           0                     0   \n",
       "4        0            0           1                     0   \n",
       "\n",
       "   Quantitative Finance  \n",
       "0                     0  \n",
       "1                     0  \n",
       "2                     0  \n",
       "3                     0  \n",
       "4                     0  "
      ]
     },
     "execution_count": 4,
     "metadata": {},
     "output_type": "execute_result"
    }
   ],
   "source": [
    "data.head(5)"
   ]
  },
  {
   "cell_type": "code",
   "execution_count": null,
   "id": "8bbd175c",
   "metadata": {},
   "outputs": [],
   "source": []
  },
  {
   "cell_type": "markdown",
   "id": "693b5bb7",
   "metadata": {},
   "source": [
    "# preprocces of data "
   ]
  },
  {
   "cell_type": "code",
   "execution_count": 5,
   "id": "8cc79207",
   "metadata": {},
   "outputs": [],
   "source": [
    "data.columns = [i.lower().replace(' ','_') for i in data.columns]"
   ]
  },
  {
   "cell_type": "code",
   "execution_count": 6,
   "id": "e1f3978d",
   "metadata": {},
   "outputs": [
    {
     "data": {
      "text/html": [
       "<div>\n",
       "<style scoped>\n",
       "    .dataframe tbody tr th:only-of-type {\n",
       "        vertical-align: middle;\n",
       "    }\n",
       "\n",
       "    .dataframe tbody tr th {\n",
       "        vertical-align: top;\n",
       "    }\n",
       "\n",
       "    .dataframe thead th {\n",
       "        text-align: right;\n",
       "    }\n",
       "</style>\n",
       "<table border=\"1\" class=\"dataframe\">\n",
       "  <thead>\n",
       "    <tr style=\"text-align: right;\">\n",
       "      <th></th>\n",
       "      <th>id</th>\n",
       "      <th>title</th>\n",
       "      <th>abstract</th>\n",
       "      <th>computer_science</th>\n",
       "      <th>physics</th>\n",
       "      <th>mathematics</th>\n",
       "      <th>statistics</th>\n",
       "      <th>quantitative_biology</th>\n",
       "      <th>quantitative_finance</th>\n",
       "    </tr>\n",
       "  </thead>\n",
       "  <tbody>\n",
       "    <tr>\n",
       "      <th>0</th>\n",
       "      <td>1</td>\n",
       "      <td>Reconstructing Subject-Specific Effect Maps</td>\n",
       "      <td>Predictive models allow subject-specific inf...</td>\n",
       "      <td>1</td>\n",
       "      <td>0</td>\n",
       "      <td>0</td>\n",
       "      <td>0</td>\n",
       "      <td>0</td>\n",
       "      <td>0</td>\n",
       "    </tr>\n",
       "  </tbody>\n",
       "</table>\n",
       "</div>"
      ],
      "text/plain": [
       "   id                                        title  \\\n",
       "0   1  Reconstructing Subject-Specific Effect Maps   \n",
       "\n",
       "                                            abstract  computer_science  \\\n",
       "0    Predictive models allow subject-specific inf...                 1   \n",
       "\n",
       "   physics  mathematics  statistics  quantitative_biology  \\\n",
       "0        0            0           0                     0   \n",
       "\n",
       "   quantitative_finance  \n",
       "0                     0  "
      ]
     },
     "execution_count": 6,
     "metadata": {},
     "output_type": "execute_result"
    }
   ],
   "source": [
    "data.head(1)"
   ]
  },
  {
   "cell_type": "code",
   "execution_count": 7,
   "id": "68bd423a",
   "metadata": {},
   "outputs": [
    {
     "data": {
      "text/plain": [
       "(20972, 9)"
      ]
     },
     "execution_count": 7,
     "metadata": {},
     "output_type": "execute_result"
    }
   ],
   "source": [
    "data.shape"
   ]
  },
  {
   "cell_type": "code",
   "execution_count": 8,
   "id": "68f7bb39",
   "metadata": {},
   "outputs": [
    {
     "data": {
      "text/plain": [
       "id                      0\n",
       "title                   0\n",
       "abstract                0\n",
       "computer_science        0\n",
       "physics                 0\n",
       "mathematics             0\n",
       "statistics              0\n",
       "quantitative_biology    0\n",
       "quantitative_finance    0\n",
       "dtype: int64"
      ]
     },
     "execution_count": 8,
     "metadata": {},
     "output_type": "execute_result"
    }
   ],
   "source": [
    "data.isnull().sum()"
   ]
  },
  {
   "cell_type": "code",
   "execution_count": 9,
   "id": "bd2e0d0d",
   "metadata": {},
   "outputs": [
    {
     "data": {
      "text/plain": [
       "0"
      ]
     },
     "execution_count": 9,
     "metadata": {},
     "output_type": "execute_result"
    }
   ],
   "source": [
    "data.duplicated().sum()"
   ]
  },
  {
   "cell_type": "code",
   "execution_count": null,
   "id": "18d8a4ed",
   "metadata": {},
   "outputs": [],
   "source": []
  },
  {
   "cell_type": "code",
   "execution_count": null,
   "id": "f5c97647",
   "metadata": {},
   "outputs": [],
   "source": [
    "\n"
   ]
  },
  {
   "cell_type": "code",
   "execution_count": null,
   "id": "ad2a3254",
   "metadata": {},
   "outputs": [],
   "source": []
  },
  {
   "cell_type": "markdown",
   "id": "5fbe2fc8",
   "metadata": {},
   "source": [
    "# we have to change the outpout to a single column ! : "
   ]
  },
  {
   "cell_type": "code",
   "execution_count": 11,
   "id": "ff4e2dce",
   "metadata": {},
   "outputs": [],
   "source": [
    "output = data.drop(columns=['id','title','abstract']).values"
   ]
  },
  {
   "cell_type": "code",
   "execution_count": 12,
   "id": "b80ff7fd",
   "metadata": {},
   "outputs": [],
   "source": [
    "clas = []\n",
    "sub = data[['computer_science','physics','mathematics','statistics','quantitative_biology','quantitative_finance']].values\n",
    "for i in sub:\n",
    "    x = i.argmax(0)\n",
    "    clas.append(x)\n",
    "\n",
    "\n",
    "\n",
    "data['class'] = clas\n",
    "data.drop(columns=['computer_science','physics','mathematics','statistics','quantitative_biology','quantitative_finance'],inplace=True)\n",
    "\n",
    "\n",
    "\n",
    "\n",
    "\n",
    "\n"
   ]
  },
  {
   "cell_type": "code",
   "execution_count": 13,
   "id": "149566ee",
   "metadata": {},
   "outputs": [],
   "source": [
    "df = data"
   ]
  },
  {
   "cell_type": "markdown",
   "id": "3738ceb4",
   "metadata": {},
   "source": [
    "# combine abstract with title "
   ]
  },
  {
   "cell_type": "code",
   "execution_count": 14,
   "id": "89eee736",
   "metadata": {},
   "outputs": [
    {
     "data": {
      "text/html": [
       "<div>\n",
       "<style scoped>\n",
       "    .dataframe tbody tr th:only-of-type {\n",
       "        vertical-align: middle;\n",
       "    }\n",
       "\n",
       "    .dataframe tbody tr th {\n",
       "        vertical-align: top;\n",
       "    }\n",
       "\n",
       "    .dataframe thead th {\n",
       "        text-align: right;\n",
       "    }\n",
       "</style>\n",
       "<table border=\"1\" class=\"dataframe\">\n",
       "  <thead>\n",
       "    <tr style=\"text-align: right;\">\n",
       "      <th></th>\n",
       "      <th>id</th>\n",
       "      <th>title</th>\n",
       "      <th>abstract</th>\n",
       "      <th>class</th>\n",
       "    </tr>\n",
       "  </thead>\n",
       "  <tbody>\n",
       "    <tr>\n",
       "      <th>0</th>\n",
       "      <td>1</td>\n",
       "      <td>Reconstructing Subject-Specific Effect Maps</td>\n",
       "      <td>Predictive models allow subject-specific inf...</td>\n",
       "      <td>0</td>\n",
       "    </tr>\n",
       "    <tr>\n",
       "      <th>1</th>\n",
       "      <td>2</td>\n",
       "      <td>Rotation Invariance Neural Network</td>\n",
       "      <td>Rotation invariance and translation invarian...</td>\n",
       "      <td>0</td>\n",
       "    </tr>\n",
       "  </tbody>\n",
       "</table>\n",
       "</div>"
      ],
      "text/plain": [
       "   id                                        title  \\\n",
       "0   1  Reconstructing Subject-Specific Effect Maps   \n",
       "1   2           Rotation Invariance Neural Network   \n",
       "\n",
       "                                            abstract  class  \n",
       "0    Predictive models allow subject-specific inf...      0  \n",
       "1    Rotation invariance and translation invarian...      0  "
      ]
     },
     "execution_count": 14,
     "metadata": {},
     "output_type": "execute_result"
    }
   ],
   "source": [
    "df.head(2)"
   ]
  },
  {
   "cell_type": "code",
   "execution_count": 15,
   "id": "843a799c",
   "metadata": {},
   "outputs": [],
   "source": [
    "text = []\n",
    "\n",
    "\n",
    "vals = df[['title','abstract']].values\n",
    "\n",
    "\n",
    "for i in vals:\n",
    "    text.append(str(i[0])+str(i[1]))\n",
    "\n",
    "df['text'] = text"
   ]
  },
  {
   "cell_type": "code",
   "execution_count": 16,
   "id": "119c6e57",
   "metadata": {},
   "outputs": [
    {
     "data": {
      "text/plain": [
       "20972"
      ]
     },
     "execution_count": 16,
     "metadata": {},
     "output_type": "execute_result"
    }
   ],
   "source": [
    "len(vals)"
   ]
  },
  {
   "cell_type": "code",
   "execution_count": 17,
   "id": "e8fcb46d",
   "metadata": {},
   "outputs": [
    {
     "name": "stdout",
     "output_type": "stream",
     "text": [
      "43\n",
      "1912\n",
      "1955\n"
     ]
    }
   ],
   "source": [
    "# just a check\n",
    "print(len(df.loc[df['id'] == 1,'title'].values[0]))\n",
    "print(len(df.loc[df['id'] == 1,'abstract'].values[0]))\n",
    "print(len(df.loc[df['id'] == 1,'text'].values[0]))"
   ]
  },
  {
   "cell_type": "markdown",
   "id": "a4941333",
   "metadata": {},
   "source": [
    "### everithing is fine we can proceed "
   ]
  },
  {
   "cell_type": "code",
   "execution_count": 18,
   "id": "1104e043",
   "metadata": {},
   "outputs": [],
   "source": [
    "df.drop(columns=['title','abstract','id'],inplace=True)"
   ]
  },
  {
   "cell_type": "code",
   "execution_count": null,
   "id": "0310beb6",
   "metadata": {},
   "outputs": [],
   "source": []
  },
  {
   "cell_type": "code",
   "execution_count": 19,
   "id": "771dd9d5",
   "metadata": {},
   "outputs": [],
   "source": [
    "df = df[['text','class']]"
   ]
  },
  {
   "cell_type": "code",
   "execution_count": 20,
   "id": "7275490b",
   "metadata": {},
   "outputs": [
    {
     "data": {
      "text/html": [
       "<div>\n",
       "<style scoped>\n",
       "    .dataframe tbody tr th:only-of-type {\n",
       "        vertical-align: middle;\n",
       "    }\n",
       "\n",
       "    .dataframe tbody tr th {\n",
       "        vertical-align: top;\n",
       "    }\n",
       "\n",
       "    .dataframe thead th {\n",
       "        text-align: right;\n",
       "    }\n",
       "</style>\n",
       "<table border=\"1\" class=\"dataframe\">\n",
       "  <thead>\n",
       "    <tr style=\"text-align: right;\">\n",
       "      <th></th>\n",
       "      <th>text</th>\n",
       "      <th>class</th>\n",
       "    </tr>\n",
       "  </thead>\n",
       "  <tbody>\n",
       "    <tr>\n",
       "      <th>0</th>\n",
       "      <td>Reconstructing Subject-Specific Effect Maps  P...</td>\n",
       "      <td>0</td>\n",
       "    </tr>\n",
       "    <tr>\n",
       "      <th>1</th>\n",
       "      <td>Rotation Invariance Neural Network  Rotation i...</td>\n",
       "      <td>0</td>\n",
       "    </tr>\n",
       "    <tr>\n",
       "      <th>2</th>\n",
       "      <td>Spherical polyharmonics and Poisson kernels fo...</td>\n",
       "      <td>2</td>\n",
       "    </tr>\n",
       "  </tbody>\n",
       "</table>\n",
       "</div>"
      ],
      "text/plain": [
       "                                                text  class\n",
       "0  Reconstructing Subject-Specific Effect Maps  P...      0\n",
       "1  Rotation Invariance Neural Network  Rotation i...      0\n",
       "2  Spherical polyharmonics and Poisson kernels fo...      2"
      ]
     },
     "execution_count": 20,
     "metadata": {},
     "output_type": "execute_result"
    }
   ],
   "source": [
    "df.head(3)"
   ]
  },
  {
   "cell_type": "code",
   "execution_count": null,
   "id": "2e631ec7",
   "metadata": {},
   "outputs": [],
   "source": []
  },
  {
   "cell_type": "markdown",
   "id": "b1f35f37",
   "metadata": {},
   "source": [
    "# independed feature"
   ]
  },
  {
   "cell_type": "code",
   "execution_count": 21,
   "id": "cb4dba04",
   "metadata": {},
   "outputs": [],
   "source": [
    "x = df['text'].values"
   ]
  },
  {
   "cell_type": "markdown",
   "id": "3483532b",
   "metadata": {},
   "source": [
    "# depended feature "
   ]
  },
  {
   "cell_type": "code",
   "execution_count": 22,
   "id": "36140712",
   "metadata": {},
   "outputs": [],
   "source": [
    "y = df['class'].values"
   ]
  },
  {
   "cell_type": "code",
   "execution_count": null,
   "id": "6504bd25",
   "metadata": {},
   "outputs": [],
   "source": []
  },
  {
   "cell_type": "code",
   "execution_count": null,
   "id": "b1f09c58",
   "metadata": {},
   "outputs": [],
   "source": []
  },
  {
   "cell_type": "markdown",
   "id": "9da4ff8c",
   "metadata": {},
   "source": [
    "# subject balance"
   ]
  },
  {
   "cell_type": "code",
   "execution_count": null,
   "id": "dd5fdd2b",
   "metadata": {},
   "outputs": [],
   "source": [
    "cols = data.drop(columns=['id','title','abstract']).columns\n",
    "\n",
    "\n",
    "\n",
    "import seaborn as sns\n",
    "import matplotlib.pyplot as plt\n",
    "\n",
    "x_axis = range(len(cols))\n",
    "plt.figure(figsize=(5,5))\n",
    "plt.bar(x_axis,data.drop(columns=['title','abstract','id']).sum())\n",
    "plt.xticks(x_axis,cols,rotation=90)\n",
    "plt.show()"
   ]
  },
  {
   "cell_type": "markdown",
   "id": "722e9533",
   "metadata": {},
   "source": [
    "### subjects are not that well balanced"
   ]
  },
  {
   "cell_type": "code",
   "execution_count": null,
   "id": "996652e5",
   "metadata": {},
   "outputs": [],
   "source": []
  },
  {
   "cell_type": "code",
   "execution_count": null,
   "id": "3becf46d",
   "metadata": {},
   "outputs": [],
   "source": []
  },
  {
   "cell_type": "markdown",
   "id": "cb6374c7",
   "metadata": {},
   "source": [
    "# remove stop words"
   ]
  },
  {
   "cell_type": "code",
   "execution_count": 23,
   "id": "f545091d",
   "metadata": {},
   "outputs": [],
   "source": [
    "from nltk.corpus import stopwords\n",
    "stop  = stopwords.words(\"english\")\n",
    "\n",
    "\n",
    "def remove_stop(sent):\n",
    "    text = ' '.join([word for word in sent.split() if word not in stop])\n",
    "    return text"
   ]
  },
  {
   "cell_type": "code",
   "execution_count": 24,
   "id": "0e27ce2e",
   "metadata": {},
   "outputs": [],
   "source": [
    "text = []\n",
    "for i in x:\n",
    "    new = remove_stop(i)\n",
    "    text.append(new)\n",
    "    "
   ]
  },
  {
   "cell_type": "code",
   "execution_count": 25,
   "id": "ab40cf37",
   "metadata": {},
   "outputs": [],
   "source": [
    "x = np.array(text)"
   ]
  },
  {
   "cell_type": "code",
   "execution_count": null,
   "id": "c9b0651a",
   "metadata": {},
   "outputs": [],
   "source": []
  },
  {
   "cell_type": "code",
   "execution_count": null,
   "id": "5c9b8e22",
   "metadata": {},
   "outputs": [],
   "source": []
  },
  {
   "cell_type": "markdown",
   "id": "698a30ef",
   "metadata": {},
   "source": [
    "# lemmatizing words"
   ]
  },
  {
   "cell_type": "code",
   "execution_count": 26,
   "id": "e2c6eecf",
   "metadata": {},
   "outputs": [],
   "source": [
    "from nltk.stem import WordNetLemmatizer"
   ]
  },
  {
   "cell_type": "code",
   "execution_count": 27,
   "id": "b4b08839",
   "metadata": {},
   "outputs": [],
   "source": [
    "lemmatizer = WordNetLemmatizer()\n",
    " "
   ]
  },
  {
   "cell_type": "code",
   "execution_count": 30,
   "id": "4bf05694",
   "metadata": {},
   "outputs": [],
   "source": [
    "def lematize(sent):\n",
    "    text = ' '.join([lemmatizer.lemmatize(word) for word in sent.split()])\n",
    "    return text "
   ]
  },
  {
   "cell_type": "code",
   "execution_count": 33,
   "id": "04390f21",
   "metadata": {},
   "outputs": [],
   "source": [
    "text = []\n",
    "for i in x:\n",
    "    new = lematize(i)\n",
    "    text.append(new)\n",
    "    \n",
    "x = np.array(text)    "
   ]
  },
  {
   "cell_type": "markdown",
   "id": "846707cd",
   "metadata": {},
   "source": [
    "\n",
    "# split in train and test "
   ]
  },
  {
   "cell_type": "code",
   "execution_count": 35,
   "id": "1100a275",
   "metadata": {},
   "outputs": [],
   "source": [
    "from sklearn.model_selection import train_test_split as tt\n",
    "x_train,x_test,y_train,y_test = tt(x,y,test_size=0.2)"
   ]
  },
  {
   "cell_type": "code",
   "execution_count": null,
   "id": "e0bcdbc0",
   "metadata": {},
   "outputs": [],
   "source": []
  },
  {
   "cell_type": "code",
   "execution_count": null,
   "id": "d8e4b364",
   "metadata": {},
   "outputs": [],
   "source": []
  },
  {
   "cell_type": "markdown",
   "id": "ba77f6ef",
   "metadata": {},
   "source": [
    "# Tokenize the words"
   ]
  },
  {
   "cell_type": "code",
   "execution_count": 36,
   "id": "3fa7ea91",
   "metadata": {},
   "outputs": [
    {
     "name": "stdout",
     "output_type": "stream",
     "text": [
      "WARNING:tensorflow:From C:\\Users\\mplan\\anaconda3\\Lib\\site-packages\\keras\\src\\losses.py:2976: The name tf.losses.sparse_softmax_cross_entropy is deprecated. Please use tf.compat.v1.losses.sparse_softmax_cross_entropy instead.\n",
      "\n"
     ]
    }
   ],
   "source": [
    "from tensorflow.keras.preprocessing.text import Tokenizer\n",
    "from tensorflow.keras.preprocessing.sequence import pad_sequences"
   ]
  },
  {
   "cell_type": "code",
   "execution_count": null,
   "id": "50aaa6cb",
   "metadata": {},
   "outputs": [],
   "source": []
  },
  {
   "cell_type": "code",
   "execution_count": 40,
   "id": "9906b85b",
   "metadata": {},
   "outputs": [],
   "source": [
    "token = Tokenizer(num_words=40000,oov_token = 'oov_tok')"
   ]
  },
  {
   "cell_type": "code",
   "execution_count": 41,
   "id": "fb98ca98",
   "metadata": {},
   "outputs": [],
   "source": [
    "token.fit_on_texts(x_train)"
   ]
  },
  {
   "cell_type": "code",
   "execution_count": 42,
   "id": "c72a59f4",
   "metadata": {},
   "outputs": [
    {
     "data": {
      "text/plain": [
       "50959"
      ]
     },
     "execution_count": 42,
     "metadata": {},
     "output_type": "execute_result"
    }
   ],
   "source": [
    "len(token.word_index)"
   ]
  },
  {
   "cell_type": "code",
   "execution_count": null,
   "id": "8205c45f",
   "metadata": {},
   "outputs": [],
   "source": []
  },
  {
   "cell_type": "code",
   "execution_count": 43,
   "id": "9b3eaab9",
   "metadata": {},
   "outputs": [
    {
     "data": {
      "text/plain": [
       "1330"
      ]
     },
     "execution_count": 43,
     "metadata": {},
     "output_type": "execute_result"
    }
   ],
   "source": [
    "x = np.argmax(x_train)\n",
    "size_ = len(x_train[x])\n",
    "size_"
   ]
  },
  {
   "cell_type": "code",
   "execution_count": null,
   "id": "77cbe9ee",
   "metadata": {},
   "outputs": [],
   "source": []
  },
  {
   "cell_type": "markdown",
   "id": "128353da",
   "metadata": {},
   "source": [
    "# make sequences and pad them "
   ]
  },
  {
   "cell_type": "code",
   "execution_count": 44,
   "id": "53559264",
   "metadata": {},
   "outputs": [],
   "source": [
    "train_sequences = token.texts_to_sequences(x_train)\n",
    "training_padded = pad_sequences(train_sequences, maxlen=size_, padding='post', truncating='post')"
   ]
  },
  {
   "cell_type": "code",
   "execution_count": 45,
   "id": "81d09c9e",
   "metadata": {},
   "outputs": [],
   "source": [
    "test_sequences = token.texts_to_sequences(x_test)\n",
    "test_padded = pad_sequences(test_sequences, maxlen=size_, padding='post', truncating='post')"
   ]
  },
  {
   "cell_type": "code",
   "execution_count": null,
   "id": "33f7d881",
   "metadata": {},
   "outputs": [],
   "source": []
  },
  {
   "cell_type": "code",
   "execution_count": null,
   "id": "84053878",
   "metadata": {},
   "outputs": [],
   "source": []
  },
  {
   "cell_type": "markdown",
   "id": "4a5a7e1b",
   "metadata": {},
   "source": [
    "# create the input that the tensorflow expects"
   ]
  },
  {
   "cell_type": "code",
   "execution_count": 46,
   "id": "b066fb54",
   "metadata": {},
   "outputs": [],
   "source": [
    "train_x = np.array(training_padded)\n",
    "train_y = np.array(y_train)\n",
    "\n",
    "\n",
    "test_x = np.array(test_padded)\n",
    "test_y = np.array(y_test)"
   ]
  },
  {
   "cell_type": "code",
   "execution_count": 47,
   "id": "f3fbaa5e",
   "metadata": {},
   "outputs": [],
   "source": [
    "from tensorflow.keras.utils import to_categorical\n",
    "\n",
    "\n",
    "train_y = to_categorical(train_y,num_classes=6)\n",
    "test_y = to_categorical(test_y,num_classes=6)"
   ]
  },
  {
   "cell_type": "code",
   "execution_count": null,
   "id": "7f481bd7",
   "metadata": {},
   "outputs": [],
   "source": []
  },
  {
   "cell_type": "markdown",
   "id": "44947682",
   "metadata": {},
   "source": [
    "# save best weights at training "
   ]
  },
  {
   "cell_type": "code",
   "execution_count": 48,
   "id": "74e6be1a",
   "metadata": {},
   "outputs": [],
   "source": [
    "\n",
    "import tensorflow as tf\n",
    "\n",
    "cp_callback = tf.keras.callbacks.ModelCheckpoint(monitor='vall_loss',\n",
    "    filepath='model_best.h5',\n",
    "                                                 save_weights_only=True,\n",
    "                                                 verbose=1)"
   ]
  },
  {
   "cell_type": "code",
   "execution_count": null,
   "id": "7eaa3da2",
   "metadata": {},
   "outputs": [],
   "source": []
  },
  {
   "cell_type": "code",
   "execution_count": null,
   "id": "f0441d6e",
   "metadata": {},
   "outputs": [],
   "source": []
  },
  {
   "cell_type": "markdown",
   "id": "abdf82ba",
   "metadata": {},
   "source": [
    "# model\n"
   ]
  },
  {
   "cell_type": "code",
   "execution_count": 49,
   "id": "2d4cd91c",
   "metadata": {},
   "outputs": [],
   "source": [
    "\n",
    "\n",
    "from tensorflow.keras.models import Sequential\n",
    "\n",
    "from tensorflow.keras.layers import *"
   ]
  },
  {
   "cell_type": "code",
   "execution_count": 50,
   "id": "08a2e6b8",
   "metadata": {},
   "outputs": [
    {
     "name": "stdout",
     "output_type": "stream",
     "text": [
      "WARNING:tensorflow:From C:\\Users\\mplan\\anaconda3\\Lib\\site-packages\\keras\\src\\backend.py:873: The name tf.get_default_graph is deprecated. Please use tf.compat.v1.get_default_graph instead.\n",
      "\n",
      "Model: \"sequential\"\n",
      "_________________________________________________________________\n",
      " Layer (type)                Output Shape              Param #   \n",
      "=================================================================\n",
      " embedding (Embedding)       (None, 1330, 20)          1000000   \n",
      "                                                                 \n",
      " global_average_pooling1d (  (None, 20)                0         \n",
      " GlobalAveragePooling1D)                                         \n",
      "                                                                 \n",
      " dense (Dense)               (None, 20)                420       \n",
      "                                                                 \n",
      " batch_normalization (Batch  (None, 20)                80        \n",
      " Normalization)                                                  \n",
      "                                                                 \n",
      " dense_1 (Dense)             (None, 6)                 126       \n",
      "                                                                 \n",
      "=================================================================\n",
      "Total params: 1000626 (3.82 MB)\n",
      "Trainable params: 1000586 (3.82 MB)\n",
      "Non-trainable params: 40 (160.00 Byte)\n",
      "_________________________________________________________________\n"
     ]
    }
   ],
   "source": [
    "model = Sequential()\n",
    "\n",
    "model.add(Embedding(50000,output_dim=20,input_length=size_))\n",
    "model.add(GlobalAveragePooling1D())\n",
    "model.add(Dense(20,'relu',kernel_regularizer='l1_l2'))\n",
    "model.add(BatchNormalization())\n",
    "model.add(Dense(6,'softmax'))\n",
    "\n",
    "model.summary()\n"
   ]
  },
  {
   "cell_type": "code",
   "execution_count": 51,
   "id": "70ebce90",
   "metadata": {},
   "outputs": [
    {
     "name": "stdout",
     "output_type": "stream",
     "text": [
      "WARNING:tensorflow:From C:\\Users\\mplan\\anaconda3\\Lib\\site-packages\\keras\\src\\optimizers\\__init__.py:309: The name tf.train.Optimizer is deprecated. Please use tf.compat.v1.train.Optimizer instead.\n",
      "\n"
     ]
    }
   ],
   "source": [
    "model.compile(loss='categorical_crossentropy',optimizer='adam',metrics=['accuracy'])"
   ]
  },
  {
   "cell_type": "code",
   "execution_count": 52,
   "id": "aa8e9a89",
   "metadata": {},
   "outputs": [
    {
     "name": "stdout",
     "output_type": "stream",
     "text": [
      "Epoch 1/10\n",
      "WARNING:tensorflow:From C:\\Users\\mplan\\anaconda3\\Lib\\site-packages\\keras\\src\\utils\\tf_utils.py:492: The name tf.ragged.RaggedTensorValue is deprecated. Please use tf.compat.v1.ragged.RaggedTensorValue instead.\n",
      "\n",
      "WARNING:tensorflow:From C:\\Users\\mplan\\anaconda3\\Lib\\site-packages\\keras\\src\\engine\\base_layer_utils.py:384: The name tf.executing_eagerly_outside_functions is deprecated. Please use tf.compat.v1.executing_eagerly_outside_functions instead.\n",
      "\n",
      "525/525 [==============================] - ETA: 0s - loss: 1.4479 - accuracy: 0.6690\n",
      "Epoch 1: saving model to model_best.h5\n",
      "525/525 [==============================] - 12s 19ms/step - loss: 1.4479 - accuracy: 0.6690 - val_loss: 1.2452 - val_accuracy: 0.6360\n",
      "Epoch 2/10\n",
      "525/525 [==============================] - ETA: 0s - loss: 0.8085 - accuracy: 0.7873\n",
      "Epoch 2: saving model to model_best.h5\n",
      "525/525 [==============================] - 10s 19ms/step - loss: 0.8085 - accuracy: 0.7873 - val_loss: 0.8364 - val_accuracy: 0.7709\n",
      "Epoch 3/10\n",
      "522/525 [============================>.] - ETA: 0s - loss: 0.6969 - accuracy: 0.8039\n",
      "Epoch 3: saving model to model_best.h5\n",
      "525/525 [==============================] - 9s 17ms/step - loss: 0.6965 - accuracy: 0.8040 - val_loss: 1.3877 - val_accuracy: 0.5190\n",
      "Epoch 4/10\n",
      "523/525 [============================>.] - ETA: 0s - loss: 0.6176 - accuracy: 0.8191\n",
      "Epoch 4: saving model to model_best.h5\n",
      "525/525 [==============================] - 10s 20ms/step - loss: 0.6177 - accuracy: 0.8190 - val_loss: 1.5543 - val_accuracy: 0.5654\n",
      "Epoch 5/10\n",
      "525/525 [==============================] - ETA: 0s - loss: 0.5415 - accuracy: 0.8419\n",
      "Epoch 5: saving model to model_best.h5\n",
      "525/525 [==============================] - 10s 20ms/step - loss: 0.5415 - accuracy: 0.8419 - val_loss: 0.9538 - val_accuracy: 0.6236\n",
      "Epoch 6/10\n",
      "523/525 [============================>.] - ETA: 0s - loss: 0.4785 - accuracy: 0.8648\n",
      "Epoch 6: saving model to model_best.h5\n",
      "525/525 [==============================] - 11s 20ms/step - loss: 0.4783 - accuracy: 0.8648 - val_loss: 0.7102 - val_accuracy: 0.7771\n",
      "Epoch 7/10\n",
      "523/525 [============================>.] - ETA: 0s - loss: 0.4232 - accuracy: 0.8822\n",
      "Epoch 7: saving model to model_best.h5\n",
      "525/525 [==============================] - 10s 20ms/step - loss: 0.4233 - accuracy: 0.8821 - val_loss: 0.7752 - val_accuracy: 0.7530\n",
      "Epoch 8/10\n",
      "524/525 [============================>.] - ETA: 0s - loss: 0.3732 - accuracy: 0.8995\n",
      "Epoch 8: saving model to model_best.h5\n",
      "525/525 [==============================] - 11s 21ms/step - loss: 0.3731 - accuracy: 0.8996 - val_loss: 1.3838 - val_accuracy: 0.6775\n",
      "Epoch 9/10\n",
      "523/525 [============================>.] - ETA: 0s - loss: 0.3297 - accuracy: 0.9189\n",
      "Epoch 9: saving model to model_best.h5\n",
      "525/525 [==============================] - 10s 19ms/step - loss: 0.3297 - accuracy: 0.9188 - val_loss: 1.0152 - val_accuracy: 0.7642\n",
      "Epoch 10/10\n",
      "524/525 [============================>.] - ETA: 0s - loss: 0.2983 - accuracy: 0.9302\n",
      "Epoch 10: saving model to model_best.h5\n",
      "525/525 [==============================] - 11s 20ms/step - loss: 0.2983 - accuracy: 0.9303 - val_loss: 1.4867 - val_accuracy: 0.6558\n"
     ]
    }
   ],
   "source": [
    "hist = model.fit(train_x,train_y,epochs=10,validation_data=(test_x,test_y),callbacks=[cp_callback])"
   ]
  },
  {
   "cell_type": "code",
   "execution_count": null,
   "id": "6f4de2c8",
   "metadata": {},
   "outputs": [],
   "source": []
  },
  {
   "cell_type": "code",
   "execution_count": null,
   "id": "8fd6409e",
   "metadata": {},
   "outputs": [],
   "source": []
  },
  {
   "cell_type": "code",
   "execution_count": 53,
   "id": "b5b2b182",
   "metadata": {},
   "outputs": [],
   "source": [
    "model.load_weights('model_best.h5')"
   ]
  },
  {
   "cell_type": "code",
   "execution_count": null,
   "id": "27fffebb",
   "metadata": {},
   "outputs": [],
   "source": []
  },
  {
   "cell_type": "code",
   "execution_count": null,
   "id": "3c60f8c4",
   "metadata": {},
   "outputs": [],
   "source": []
  },
  {
   "cell_type": "markdown",
   "id": "c76c8c70",
   "metadata": {},
   "source": [
    "# predictions and metrics "
   ]
  },
  {
   "cell_type": "code",
   "execution_count": 100,
   "id": "0ed8c9e6",
   "metadata": {},
   "outputs": [
    {
     "name": "stdout",
     "output_type": "stream",
     "text": [
      "132/132 [==============================] - 1s 4ms/step\n"
     ]
    }
   ],
   "source": [
    "preds = model.predict(test_x)"
   ]
  },
  {
   "cell_type": "code",
   "execution_count": null,
   "id": "5733b8f0",
   "metadata": {},
   "outputs": [],
   "source": []
  },
  {
   "cell_type": "markdown",
   "id": "d272989e",
   "metadata": {},
   "source": [
    "## a function to return the argmax of preds:\n"
   ]
  },
  {
   "cell_type": "code",
   "execution_count": 101,
   "id": "06f1821a",
   "metadata": {},
   "outputs": [],
   "source": [
    "def ys(x):\n",
    "    y = []\n",
    "    for i in x:\n",
    "        a = np.argmax(i)\n",
    "        y.append(a)\n",
    "    return y \n",
    "    "
   ]
  },
  {
   "cell_type": "code",
   "execution_count": 102,
   "id": "c484b2a8",
   "metadata": {},
   "outputs": [],
   "source": [
    "y_pred = ys(preds)\n",
    "y_test = ys(test_y)"
   ]
  },
  {
   "cell_type": "code",
   "execution_count": null,
   "id": "956f7f80",
   "metadata": {},
   "outputs": [],
   "source": []
  },
  {
   "cell_type": "code",
   "execution_count": 89,
   "id": "969f8e6c",
   "metadata": {},
   "outputs": [],
   "source": [
    "from sklearn.metrics import accuracy_score,confusion_matrix,f1_score,hamming_loss"
   ]
  },
  {
   "cell_type": "code",
   "execution_count": null,
   "id": "449d4fa0",
   "metadata": {},
   "outputs": [],
   "source": []
  },
  {
   "cell_type": "markdown",
   "id": "d186d8e1",
   "metadata": {},
   "source": [
    "## a function for metrics  : "
   ]
  },
  {
   "cell_type": "code",
   "execution_count": 107,
   "id": "a7c1a75d",
   "metadata": {},
   "outputs": [
    {
     "name": "stdout",
     "output_type": "stream",
     "text": [
      "accuracy 0.6557806912991657  f1 score 0.6557806912991657   hammingloss 0.34421930870083434\n"
     ]
    }
   ],
   "source": [
    "def metrics(y_pred,y_test = y_test):\n",
    "    ac = accuracy_score(y_pred,y_test)\n",
    "    f1 = f1_score(y_pred,y_test,average='micro')\n",
    "    hloss = hamming_loss(y_pred,y_test)\n",
    "    print(f'accuracy { ac}  f1 score {f1}   hammingloss {hloss}')\n",
    "\n",
    "\n",
    "\n",
    "metrics(y_pred)"
   ]
  },
  {
   "cell_type": "code",
   "execution_count": 91,
   "id": "9e06de94",
   "metadata": {},
   "outputs": [
    {
     "data": {
      "text/plain": [
       "<Axes: >"
      ]
     },
     "execution_count": 91,
     "metadata": {},
     "output_type": "execute_result"
    },
    {
     "data": {
      "image/png": "[encoded data removed]",
      "text/plain": [
       "<Figure size 640x480 with 2 Axes>"
      ]
     },
     "metadata": {},
     "output_type": "display_data"
    }
   ],
   "source": [
    "import seaborn as sns\n",
    "\n",
    "cm  = confusion_matrix(y_pred,y_test)\n",
    "\n",
    "sns.heatmap(cm,annot=True,fmt='.0f')"
   ]
  },
  {
   "cell_type": "code",
   "execution_count": null,
   "id": "69ccce29",
   "metadata": {},
   "outputs": [],
   "source": []
  },
  {
   "cell_type": "code",
   "execution_count": null,
   "id": "75ff4792",
   "metadata": {},
   "outputs": [],
   "source": []
  },
  {
   "cell_type": "code",
   "execution_count": null,
   "id": "02b044ff",
   "metadata": {},
   "outputs": [],
   "source": [
    "\n"
   ]
  },
  {
   "cell_type": "code",
   "execution_count": null,
   "id": "1b9a1393",
   "metadata": {},
   "outputs": [],
   "source": []
  },
  {
   "cell_type": "code",
   "execution_count": null,
   "id": "a4873f74",
   "metadata": {},
   "outputs": [],
   "source": []
  }
 ],
 "metadata": {
  "kernelspec": {
   "display_name": "Python 3 (ipykernel)",
   "language": "python",
   "name": "python3"
  },
  "language_info": {
   "codemirror_mode": {
    "name": "ipython",
    "version": 3
   },
   "file_extension": ".py",
   "mimetype": "text/x-python",
   "name": "python",
   "nbconvert_exporter": "python",
   "pygments_lexer": "ipython3",
   "version": "3.11.5"
  }
 },
 "nbformat": 4,
 "nbformat_minor": 5
}
