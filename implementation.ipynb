{
 "cells": [
  {
   "cell_type": "markdown",
   "id": "a17daab9",
   "metadata": {},
   "source": [
    "# import libraries and data "
   ]
  },
  {
   "cell_type": "code",
   "execution_count": 1,
   "id": "c1e1a411",
   "metadata": {},
   "outputs": [],
   "source": [
    "import pandas as pd\n",
    "import numpy as np"
   ]
  },
  {
   "cell_type": "code",
   "execution_count": 2,
   "id": "9b329153",
   "metadata": {},
   "outputs": [],
   "source": [
    "data = pd.read_csv('data.csv')"
   ]
  },
  {
   "cell_type": "code",
   "execution_count": 3,
   "id": "545a4fbd",
   "metadata": {},
   "outputs": [
    {
     "data": {
      "text/plain": [
       "(20972, 9)"
      ]
     },
     "execution_count": 3,
     "metadata": {},
     "output_type": "execute_result"
    }
   ],
   "source": [
    "data.shape"
   ]
  },
  {
   "cell_type": "code",
   "execution_count": null,
   "id": "6c8660d2",
   "metadata": {},
   "outputs": [],
   "source": []
  },
  {
   "cell_type": "code",
   "execution_count": 4,
   "id": "94bf9221",
   "metadata": {},
   "outputs": [
    {
     "data": {
      "text/html": [
       "<div>\n",
       "<style scoped>\n",
       "    .dataframe tbody tr th:only-of-type {\n",
       "        vertical-align: middle;\n",
       "    }\n",
       "\n",
       "    .dataframe tbody tr th {\n",
       "        vertical-align: top;\n",
       "    }\n",
       "\n",
       "    .dataframe thead th {\n",
       "        text-align: right;\n",
       "    }\n",
       "</style>\n",
       "<table border=\"1\" class=\"dataframe\">\n",
       "  <thead>\n",
       "    <tr style=\"text-align: right;\">\n",
       "      <th></th>\n",
       "      <th>ID</th>\n",
       "      <th>TITLE</th>\n",
       "      <th>ABSTRACT</th>\n",
       "      <th>Computer Science</th>\n",
       "      <th>Physics</th>\n",
       "      <th>Mathematics</th>\n",
       "      <th>Statistics</th>\n",
       "      <th>Quantitative Biology</th>\n",
       "      <th>Quantitative Finance</th>\n",
       "    </tr>\n",
       "  </thead>\n",
       "  <tbody>\n",
       "    <tr>\n",
       "      <th>0</th>\n",
       "      <td>1</td>\n",
       "      <td>Reconstructing Subject-Specific Effect Maps</td>\n",
       "      <td>Predictive models allow subject-specific inf...</td>\n",
       "      <td>1</td>\n",
       "      <td>0</td>\n",
       "      <td>0</td>\n",
       "      <td>0</td>\n",
       "      <td>0</td>\n",
       "      <td>0</td>\n",
       "    </tr>\n",
       "    <tr>\n",
       "      <th>1</th>\n",
       "      <td>2</td>\n",
       "      <td>Rotation Invariance Neural Network</td>\n",
       "      <td>Rotation invariance and translation invarian...</td>\n",
       "      <td>1</td>\n",
       "      <td>0</td>\n",
       "      <td>0</td>\n",
       "      <td>0</td>\n",
       "      <td>0</td>\n",
       "      <td>0</td>\n",
       "    </tr>\n",
       "    <tr>\n",
       "      <th>2</th>\n",
       "      <td>3</td>\n",
       "      <td>Spherical polyharmonics and Poisson kernels fo...</td>\n",
       "      <td>We introduce and develop the notion of spher...</td>\n",
       "      <td>0</td>\n",
       "      <td>0</td>\n",
       "      <td>1</td>\n",
       "      <td>0</td>\n",
       "      <td>0</td>\n",
       "      <td>0</td>\n",
       "    </tr>\n",
       "    <tr>\n",
       "      <th>3</th>\n",
       "      <td>4</td>\n",
       "      <td>A finite element approximation for the stochas...</td>\n",
       "      <td>The stochastic Landau--Lifshitz--Gilbert (LL...</td>\n",
       "      <td>0</td>\n",
       "      <td>0</td>\n",
       "      <td>1</td>\n",
       "      <td>0</td>\n",
       "      <td>0</td>\n",
       "      <td>0</td>\n",
       "    </tr>\n",
       "    <tr>\n",
       "      <th>4</th>\n",
       "      <td>5</td>\n",
       "      <td>Comparative study of Discrete Wavelet Transfor...</td>\n",
       "      <td>Fourier-transform infra-red (FTIR) spectra o...</td>\n",
       "      <td>1</td>\n",
       "      <td>0</td>\n",
       "      <td>0</td>\n",
       "      <td>1</td>\n",
       "      <td>0</td>\n",
       "      <td>0</td>\n",
       "    </tr>\n",
       "  </tbody>\n",
       "</table>\n",
       "</div>"
      ],
      "text/plain": [
       "   ID                                              TITLE  \\\n",
       "0   1        Reconstructing Subject-Specific Effect Maps   \n",
       "1   2                 Rotation Invariance Neural Network   \n",
       "2   3  Spherical polyharmonics and Poisson kernels fo...   \n",
       "3   4  A finite element approximation for the stochas...   \n",
       "4   5  Comparative study of Discrete Wavelet Transfor...   \n",
       "\n",
       "                                            ABSTRACT  Computer Science  \\\n",
       "0    Predictive models allow subject-specific inf...                 1   \n",
       "1    Rotation invariance and translation invarian...                 1   \n",
       "2    We introduce and develop the notion of spher...                 0   \n",
       "3    The stochastic Landau--Lifshitz--Gilbert (LL...                 0   \n",
       "4    Fourier-transform infra-red (FTIR) spectra o...                 1   \n",
       "\n",
       "   Physics  Mathematics  Statistics  Quantitative Biology  \\\n",
       "0        0            0           0                     0   \n",
       "1        0            0           0                     0   \n",
       "2        0            1           0                     0   \n",
       "3        0            1           0                     0   \n",
       "4        0            0           1                     0   \n",
       "\n",
       "   Quantitative Finance  \n",
       "0                     0  \n",
       "1                     0  \n",
       "2                     0  \n",
       "3                     0  \n",
       "4                     0  "
      ]
     },
     "execution_count": 4,
     "metadata": {},
     "output_type": "execute_result"
    }
   ],
   "source": [
    "data.head(5)"
   ]
  },
  {
   "cell_type": "code",
   "execution_count": null,
   "id": "587107e2",
   "metadata": {},
   "outputs": [],
   "source": []
  },
  {
   "cell_type": "markdown",
   "id": "c75f1e98",
   "metadata": {},
   "source": [
    "# preprocces of data "
   ]
  },
  {
   "cell_type": "code",
   "execution_count": 5,
   "id": "8cc79207",
   "metadata": {},
   "outputs": [],
   "source": [
    "data.columns = [i.lower().replace(' ','_') for i in data.columns]"
   ]
  },
  {
   "cell_type": "code",
   "execution_count": 6,
   "id": "e1f3978d",
   "metadata": {},
   "outputs": [
    {
     "data": {
      "text/html": [
       "<div>\n",
       "<style scoped>\n",
       "    .dataframe tbody tr th:only-of-type {\n",
       "        vertical-align: middle;\n",
       "    }\n",
       "\n",
       "    .dataframe tbody tr th {\n",
       "        vertical-align: top;\n",
       "    }\n",
       "\n",
       "    .dataframe thead th {\n",
       "        text-align: right;\n",
       "    }\n",
       "</style>\n",
       "<table border=\"1\" class=\"dataframe\">\n",
       "  <thead>\n",
       "    <tr style=\"text-align: right;\">\n",
       "      <th></th>\n",
       "      <th>id</th>\n",
       "      <th>title</th>\n",
       "      <th>abstract</th>\n",
       "      <th>computer_science</th>\n",
       "      <th>physics</th>\n",
       "      <th>mathematics</th>\n",
       "      <th>statistics</th>\n",
       "      <th>quantitative_biology</th>\n",
       "      <th>quantitative_finance</th>\n",
       "    </tr>\n",
       "  </thead>\n",
       "  <tbody>\n",
       "    <tr>\n",
       "      <th>0</th>\n",
       "      <td>1</td>\n",
       "      <td>Reconstructing Subject-Specific Effect Maps</td>\n",
       "      <td>Predictive models allow subject-specific inf...</td>\n",
       "      <td>1</td>\n",
       "      <td>0</td>\n",
       "      <td>0</td>\n",
       "      <td>0</td>\n",
       "      <td>0</td>\n",
       "      <td>0</td>\n",
       "    </tr>\n",
       "  </tbody>\n",
       "</table>\n",
       "</div>"
      ],
      "text/plain": [
       "   id                                        title  \\\n",
       "0   1  Reconstructing Subject-Specific Effect Maps   \n",
       "\n",
       "                                            abstract  computer_science  \\\n",
       "0    Predictive models allow subject-specific inf...                 1   \n",
       "\n",
       "   physics  mathematics  statistics  quantitative_biology  \\\n",
       "0        0            0           0                     0   \n",
       "\n",
       "   quantitative_finance  \n",
       "0                     0  "
      ]
     },
     "execution_count": 6,
     "metadata": {},
     "output_type": "execute_result"
    }
   ],
   "source": [
    "data.head(1)"
   ]
  },
  {
   "cell_type": "code",
   "execution_count": 7,
   "id": "68bd423a",
   "metadata": {},
   "outputs": [
    {
     "data": {
      "text/plain": [
       "(20972, 9)"
      ]
     },
     "execution_count": 7,
     "metadata": {},
     "output_type": "execute_result"
    }
   ],
   "source": [
    "data.shape"
   ]
  },
  {
   "cell_type": "code",
   "execution_count": 8,
   "id": "68f7bb39",
   "metadata": {},
   "outputs": [
    {
     "data": {
      "text/plain": [
       "id                      0\n",
       "title                   0\n",
       "abstract                0\n",
       "computer_science        0\n",
       "physics                 0\n",
       "mathematics             0\n",
       "statistics              0\n",
       "quantitative_biology    0\n",
       "quantitative_finance    0\n",
       "dtype: int64"
      ]
     },
     "execution_count": 8,
     "metadata": {},
     "output_type": "execute_result"
    }
   ],
   "source": [
    "data.isnull().sum()"
   ]
  },
  {
   "cell_type": "code",
   "execution_count": 9,
   "id": "bd2e0d0d",
   "metadata": {},
   "outputs": [
    {
     "data": {
      "text/plain": [
       "0"
      ]
     },
     "execution_count": 9,
     "metadata": {},
     "output_type": "execute_result"
    }
   ],
   "source": [
    "data.duplicated().sum()"
   ]
  },
  {
   "cell_type": "code",
   "execution_count": null,
   "id": "18d8a4ed",
   "metadata": {},
   "outputs": [],
   "source": []
  },
  {
   "cell_type": "code",
   "execution_count": null,
   "id": "f5c97647",
   "metadata": {},
   "outputs": [],
   "source": [
    "\n"
   ]
  },
  {
   "cell_type": "code",
   "execution_count": null,
   "id": "ad2a3254",
   "metadata": {},
   "outputs": [],
   "source": []
  },
  {
   "cell_type": "markdown",
   "id": "5fbe2fc8",
   "metadata": {},
   "source": [
    "# we have to change the outpout to a single column ! : "
   ]
  },
  {
   "cell_type": "code",
   "execution_count": 10,
   "id": "ff4e2dce",
   "metadata": {},
   "outputs": [],
   "source": [
    "output = data.drop(columns=['id','title','abstract']).values"
   ]
  },
  {
   "cell_type": "code",
   "execution_count": 11,
   "id": "b80ff7fd",
   "metadata": {},
   "outputs": [],
   "source": [
    "clas = []\n",
    "sub = data[['computer_science','physics','mathematics','statistics','quantitative_biology','quantitative_finance']].values\n",
    "for i in sub:\n",
    "    x = i.argmax(0)\n",
    "    clas.append(x)\n",
    "\n",
    "\n",
    "\n",
    "data['class'] = clas\n",
    "data.drop(columns=['computer_science','physics','mathematics','statistics','quantitative_biology','quantitative_finance'],inplace=True)\n",
    "\n",
    "\n",
    "\n",
    "\n",
    "\n",
    "\n"
   ]
  },
  {
   "cell_type": "code",
   "execution_count": 12,
   "id": "149566ee",
   "metadata": {},
   "outputs": [],
   "source": [
    "df = data"
   ]
  },
  {
   "cell_type": "markdown",
   "id": "3738ceb4",
   "metadata": {},
   "source": [
    "# combine abstract with title "
   ]
  },
  {
   "cell_type": "code",
   "execution_count": 13,
   "id": "89eee736",
   "metadata": {},
   "outputs": [
    {
     "data": {
      "text/html": [
       "<div>\n",
       "<style scoped>\n",
       "    .dataframe tbody tr th:only-of-type {\n",
       "        vertical-align: middle;\n",
       "    }\n",
       "\n",
       "    .dataframe tbody tr th {\n",
       "        vertical-align: top;\n",
       "    }\n",
       "\n",
       "    .dataframe thead th {\n",
       "        text-align: right;\n",
       "    }\n",
       "</style>\n",
       "<table border=\"1\" class=\"dataframe\">\n",
       "  <thead>\n",
       "    <tr style=\"text-align: right;\">\n",
       "      <th></th>\n",
       "      <th>id</th>\n",
       "      <th>title</th>\n",
       "      <th>abstract</th>\n",
       "      <th>class</th>\n",
       "    </tr>\n",
       "  </thead>\n",
       "  <tbody>\n",
       "    <tr>\n",
       "      <th>0</th>\n",
       "      <td>1</td>\n",
       "      <td>Reconstructing Subject-Specific Effect Maps</td>\n",
       "      <td>Predictive models allow subject-specific inf...</td>\n",
       "      <td>0</td>\n",
       "    </tr>\n",
       "    <tr>\n",
       "      <th>1</th>\n",
       "      <td>2</td>\n",
       "      <td>Rotation Invariance Neural Network</td>\n",
       "      <td>Rotation invariance and translation invarian...</td>\n",
       "      <td>0</td>\n",
       "    </tr>\n",
       "  </tbody>\n",
       "</table>\n",
       "</div>"
      ],
      "text/plain": [
       "   id                                        title  \\\n",
       "0   1  Reconstructing Subject-Specific Effect Maps   \n",
       "1   2           Rotation Invariance Neural Network   \n",
       "\n",
       "                                            abstract  class  \n",
       "0    Predictive models allow subject-specific inf...      0  \n",
       "1    Rotation invariance and translation invarian...      0  "
      ]
     },
     "execution_count": 13,
     "metadata": {},
     "output_type": "execute_result"
    }
   ],
   "source": [
    "df.head(2)"
   ]
  },
  {
   "cell_type": "code",
   "execution_count": 14,
   "id": "843a799c",
   "metadata": {},
   "outputs": [],
   "source": [
    "text = []\n",
    "\n",
    "\n",
    "vals = df[['title','abstract']].values\n",
    "\n",
    "\n",
    "for i in vals:\n",
    "    text.append(str(i[0])+str(i[1]))\n",
    "\n",
    "df['text'] = text"
   ]
  },
  {
   "cell_type": "code",
   "execution_count": 15,
   "id": "119c6e57",
   "metadata": {},
   "outputs": [
    {
     "data": {
      "text/plain": [
       "20972"
      ]
     },
     "execution_count": 15,
     "metadata": {},
     "output_type": "execute_result"
    }
   ],
   "source": [
    "len(vals)"
   ]
  },
  {
   "cell_type": "code",
   "execution_count": 16,
   "id": "e8fcb46d",
   "metadata": {},
   "outputs": [
    {
     "name": "stdout",
     "output_type": "stream",
     "text": [
      "43\n",
      "1912\n",
      "1955\n"
     ]
    }
   ],
   "source": [
    "# just a check\n",
    "print(len(df.loc[df['id'] == 1,'title'].values[0]))\n",
    "print(len(df.loc[df['id'] == 1,'abstract'].values[0]))\n",
    "print(len(df.loc[df['id'] == 1,'text'].values[0]))"
   ]
  },
  {
   "cell_type": "markdown",
   "id": "a4941333",
   "metadata": {},
   "source": [
    "### everithing is fine we can proceed "
   ]
  },
  {
   "cell_type": "code",
   "execution_count": 17,
   "id": "1104e043",
   "metadata": {},
   "outputs": [],
   "source": [
    "df.drop(columns=['title','abstract','id'],inplace=True)"
   ]
  },
  {
   "cell_type": "code",
   "execution_count": null,
   "id": "0310beb6",
   "metadata": {},
   "outputs": [],
   "source": []
  },
  {
   "cell_type": "code",
   "execution_count": 18,
   "id": "771dd9d5",
   "metadata": {},
   "outputs": [],
   "source": [
    "df = df[['text','class']]"
   ]
  },
  {
   "cell_type": "code",
   "execution_count": 19,
   "id": "7275490b",
   "metadata": {},
   "outputs": [
    {
     "data": {
      "text/html": [
       "<div>\n",
       "<style scoped>\n",
       "    .dataframe tbody tr th:only-of-type {\n",
       "        vertical-align: middle;\n",
       "    }\n",
       "\n",
       "    .dataframe tbody tr th {\n",
       "        vertical-align: top;\n",
       "    }\n",
       "\n",
       "    .dataframe thead th {\n",
       "        text-align: right;\n",
       "    }\n",
       "</style>\n",
       "<table border=\"1\" class=\"dataframe\">\n",
       "  <thead>\n",
       "    <tr style=\"text-align: right;\">\n",
       "      <th></th>\n",
       "      <th>text</th>\n",
       "      <th>class</th>\n",
       "    </tr>\n",
       "  </thead>\n",
       "  <tbody>\n",
       "    <tr>\n",
       "      <th>0</th>\n",
       "      <td>Reconstructing Subject-Specific Effect Maps  P...</td>\n",
       "      <td>0</td>\n",
       "    </tr>\n",
       "    <tr>\n",
       "      <th>1</th>\n",
       "      <td>Rotation Invariance Neural Network  Rotation i...</td>\n",
       "      <td>0</td>\n",
       "    </tr>\n",
       "    <tr>\n",
       "      <th>2</th>\n",
       "      <td>Spherical polyharmonics and Poisson kernels fo...</td>\n",
       "      <td>2</td>\n",
       "    </tr>\n",
       "  </tbody>\n",
       "</table>\n",
       "</div>"
      ],
      "text/plain": [
       "                                                text  class\n",
       "0  Reconstructing Subject-Specific Effect Maps  P...      0\n",
       "1  Rotation Invariance Neural Network  Rotation i...      0\n",
       "2  Spherical polyharmonics and Poisson kernels fo...      2"
      ]
     },
     "execution_count": 19,
     "metadata": {},
     "output_type": "execute_result"
    }
   ],
   "source": [
    "df.head(3)"
   ]
  },
  {
   "cell_type": "code",
   "execution_count": null,
   "id": "2e631ec7",
   "metadata": {},
   "outputs": [],
   "source": []
  },
  {
   "cell_type": "markdown",
   "id": "b1f35f37",
   "metadata": {},
   "source": [
    "# independed feature"
   ]
  },
  {
   "cell_type": "code",
   "execution_count": 20,
   "id": "cb4dba04",
   "metadata": {},
   "outputs": [],
   "source": [
    "x = df['text'].values"
   ]
  },
  {
   "cell_type": "code",
   "execution_count": 21,
   "id": "a99d5185",
   "metadata": {},
   "outputs": [],
   "source": [
    "# clean x\n",
    "\n",
    "import re \n",
    "\n",
    "clean = re.compile('(?i)[^0-9a-z\\s]')\n",
    "\n",
    "\n",
    "x = [clean.sub('',text) for text in x]"
   ]
  },
  {
   "cell_type": "code",
   "execution_count": 22,
   "id": "d166e828",
   "metadata": {},
   "outputs": [
    {
     "data": {
      "text/plain": [
       "'Reconstructing SubjectSpecific Effect Maps  Predictive models allow subjectspecific inference when analyzing disease\\nrelated alterations in neuroimaging data Given a subjects data inference can\\nbe made at two levels global ie identifiying condition presence for the\\nsubject and local ie detecting condition effect on each individual\\nmeasurement extracted from the subjects data While global inference is widely\\nused local inference which can be used to form subjectspecific effect maps\\nis rarely used because existing models often yield noisy detections composed of\\ndispersed isolated islands In this article we propose a reconstruction\\nmethod named RSM to improve subjectspecific detections of predictive\\nmodeling approaches and in particular binary classifiers RSM specifically\\naims to reduce noise due to sampling error associated with using a finite\\nsample of examples to train classifiers The proposed method is a wrappertype\\nalgorithm that can be used with different binary classifiers in a diagnostic\\nmanner ie without information on condition presence Reconstruction is posed\\nas a MaximumAPosteriori problem with a prior model whose parameters are\\nestimated from training data in a classifierspecific fashion Experimental\\nevaluation is performed on synthetically generated data and data from the\\nAlzheimers Disease Neuroimaging Initiative ADNI database Results on\\nsynthetic data demonstrate that using RSM yields higher detection accuracy\\ncompared to using models directly or with bootstrap averaging Analyses on the\\nADNI dataset show that RSM can also improve correlation between\\nsubjectspecific detections in cortical thickness data and nonimaging markers\\nof Alzheimers Disease AD such as the Mini Mental State Examination Score\\nand Cerebrospinal Fluid amyloidbeta levels Further reliability studies on\\nthe longitudinal ADNI dataset show improvement on detection reliability when\\nRSM is used\\n'"
      ]
     },
     "execution_count": 22,
     "metadata": {},
     "output_type": "execute_result"
    }
   ],
   "source": [
    "x[0]"
   ]
  },
  {
   "cell_type": "markdown",
   "id": "3483532b",
   "metadata": {},
   "source": [
    "# depended feature "
   ]
  },
  {
   "cell_type": "code",
   "execution_count": 23,
   "id": "36140712",
   "metadata": {},
   "outputs": [],
   "source": [
    "y = df['class'].values"
   ]
  },
  {
   "cell_type": "code",
   "execution_count": null,
   "id": "6504bd25",
   "metadata": {},
   "outputs": [],
   "source": []
  },
  {
   "cell_type": "code",
   "execution_count": null,
   "id": "bce598f0",
   "metadata": {},
   "outputs": [],
   "source": []
  },
  {
   "cell_type": "code",
   "execution_count": null,
   "id": "9bbd24ca",
   "metadata": {},
   "outputs": [],
   "source": []
  },
  {
   "cell_type": "markdown",
   "id": "cb6374c7",
   "metadata": {},
   "source": [
    "# remove stop words"
   ]
  },
  {
   "cell_type": "code",
   "execution_count": 25,
   "id": "f545091d",
   "metadata": {},
   "outputs": [],
   "source": [
    "from nltk.corpus import stopwords\n",
    "stop  = stopwords.words(\"english\")\n",
    "\n",
    "\n",
    "def remove_stop(sent):\n",
    "    text = ' '.join([word for word in sent.split() if word not in stop])\n",
    "    return text"
   ]
  },
  {
   "cell_type": "code",
   "execution_count": 26,
   "id": "0e27ce2e",
   "metadata": {},
   "outputs": [],
   "source": [
    "text = []\n",
    "for i in x:\n",
    "    new = remove_stop(i)\n",
    "    text.append(new)\n",
    "    "
   ]
  },
  {
   "cell_type": "code",
   "execution_count": 27,
   "id": "ab40cf37",
   "metadata": {},
   "outputs": [],
   "source": [
    "x = np.array(text)"
   ]
  },
  {
   "cell_type": "code",
   "execution_count": null,
   "id": "c9b0651a",
   "metadata": {},
   "outputs": [],
   "source": []
  },
  {
   "cell_type": "code",
   "execution_count": null,
   "id": "3840c729",
   "metadata": {},
   "outputs": [],
   "source": []
  },
  {
   "cell_type": "markdown",
   "id": "080116d6",
   "metadata": {},
   "source": [
    "# lemmatizing words"
   ]
  },
  {
   "cell_type": "code",
   "execution_count": 28,
   "id": "1410c070",
   "metadata": {},
   "outputs": [],
   "source": [
    "from nltk.stem import WordNetLemmatizer"
   ]
  },
  {
   "cell_type": "code",
   "execution_count": 29,
   "id": "38f61d04",
   "metadata": {},
   "outputs": [],
   "source": [
    "lemmatizer = WordNetLemmatizer()\n",
    " "
   ]
  },
  {
   "cell_type": "code",
   "execution_count": 30,
   "id": "d478c54e",
   "metadata": {},
   "outputs": [],
   "source": [
    "def lematize(sent):\n",
    "    text = ' '.join([lemmatizer.lemmatize(word) for word in sent.split()])\n",
    "    return text "
   ]
  },
  {
   "cell_type": "code",
   "execution_count": 31,
   "id": "66b338a5",
   "metadata": {},
   "outputs": [],
   "source": [
    "text = []\n",
    "for i in x:\n",
    "    new = lematize(i)\n",
    "    text.append(new)\n",
    "    \n",
    "x = np.array(text)    "
   ]
  },
  {
   "cell_type": "markdown",
   "id": "846707cd",
   "metadata": {},
   "source": [
    "\n",
    "# split in train and test "
   ]
  },
  {
   "cell_type": "code",
   "execution_count": 32,
   "id": "1100a275",
   "metadata": {},
   "outputs": [],
   "source": [
    "from sklearn.model_selection import train_test_split as tt\n",
    "x_train,x_test,y_train,y_test = tt(x,y,test_size=0.2)"
   ]
  },
  {
   "cell_type": "code",
   "execution_count": null,
   "id": "e0bcdbc0",
   "metadata": {},
   "outputs": [],
   "source": []
  },
  {
   "cell_type": "code",
   "execution_count": null,
   "id": "d8e4b364",
   "metadata": {},
   "outputs": [],
   "source": []
  },
  {
   "cell_type": "markdown",
   "id": "ba77f6ef",
   "metadata": {},
   "source": [
    "# Tokenize the words"
   ]
  },
  {
   "cell_type": "code",
   "execution_count": 36,
   "id": "3fa7ea91",
   "metadata": {},
   "outputs": [
    {
     "name": "stdout",
     "output_type": "stream",
     "text": [
      "WARNING:tensorflow:From C:\\Users\\mplan\\anaconda3\\Lib\\site-packages\\keras\\src\\losses.py:2976: The name tf.losses.sparse_softmax_cross_entropy is deprecated. Please use tf.compat.v1.losses.sparse_softmax_cross_entropy instead.\n",
      "\n"
     ]
    }
   ],
   "source": [
    "from tensorflow.keras.preprocessing.text import Tokenizer\n",
    "from tensorflow.keras.preprocessing.sequence import pad_sequences"
   ]
  },
  {
   "cell_type": "code",
   "execution_count": null,
   "id": "50aaa6cb",
   "metadata": {},
   "outputs": [],
   "source": []
  },
  {
   "cell_type": "code",
   "execution_count": 40,
   "id": "9906b85b",
   "metadata": {},
   "outputs": [],
   "source": [
    "token = Tokenizer(num_words=40000,oov_token = 'oov_tok')"
   ]
  },
  {
   "cell_type": "code",
   "execution_count": 41,
   "id": "fb98ca98",
   "metadata": {},
   "outputs": [],
   "source": [
    "token.fit_on_texts(x_train)"
   ]
  },
  {
   "cell_type": "code",
   "execution_count": 42,
   "id": "c72a59f4",
   "metadata": {},
   "outputs": [
    {
     "data": {
      "text/plain": [
       "50959"
      ]
     },
     "execution_count": 42,
     "metadata": {},
     "output_type": "execute_result"
    }
   ],
   "source": [
    "len(token.word_index)"
   ]
  },
  {
   "cell_type": "code",
   "execution_count": null,
   "id": "8205c45f",
   "metadata": {},
   "outputs": [],
   "source": []
  },
  {
   "cell_type": "code",
   "execution_count": 43,
   "id": "9b3eaab9",
   "metadata": {},
   "outputs": [
    {
     "data": {
      "text/plain": [
       "1330"
      ]
     },
     "execution_count": 43,
     "metadata": {},
     "output_type": "execute_result"
    }
   ],
   "source": [
    "x = np.argmax(x_train)\n",
    "size_ = len(x_train[x])\n",
    "size_"
   ]
  },
  {
   "cell_type": "code",
   "execution_count": null,
   "id": "77cbe9ee",
   "metadata": {},
   "outputs": [],
   "source": []
  },
  {
   "cell_type": "markdown",
   "id": "128353da",
   "metadata": {},
   "source": [
    "# make sequences and pad them "
   ]
  },
  {
   "cell_type": "code",
   "execution_count": 44,
   "id": "53559264",
   "metadata": {},
   "outputs": [],
   "source": [
    "train_sequences = token.texts_to_sequences(x_train)\n",
    "training_padded = pad_sequences(train_sequences, maxlen=size_, padding='post', truncating='post')"
   ]
  },
  {
   "cell_type": "code",
   "execution_count": 45,
   "id": "81d09c9e",
   "metadata": {},
   "outputs": [],
   "source": [
    "test_sequences = token.texts_to_sequences(x_test)\n",
    "test_padded = pad_sequences(test_sequences, maxlen=size_, padding='post', truncating='post')"
   ]
  },
  {
   "cell_type": "code",
   "execution_count": null,
   "id": "33f7d881",
   "metadata": {},
   "outputs": [],
   "source": []
  },
  {
   "cell_type": "code",
   "execution_count": null,
   "id": "84053878",
   "metadata": {},
   "outputs": [],
   "source": []
  },
  {
   "cell_type": "code",
   "execution_count": null,
   "id": "90edb50b",
   "metadata": {},
   "outputs": [],
   "source": []
  },
  {
   "cell_type": "code",
   "execution_count": null,
   "id": "0fa10455",
   "metadata": {},
   "outputs": [],
   "source": []
  },
  {
   "cell_type": "code",
   "execution_count": null,
   "id": "77fad628",
   "metadata": {},
   "outputs": [],
   "source": []
  },
  {
   "cell_type": "markdown",
   "id": "cf04b26c",
   "metadata": {},
   "source": [
    "# first lets try build our own tensorflow model"
   ]
  },
  {
   "cell_type": "code",
   "execution_count": null,
   "id": "7d927181",
   "metadata": {},
   "outputs": [],
   "source": []
  },
  {
   "cell_type": "markdown",
   "id": "4a5a7e1b",
   "metadata": {},
   "source": [
    "###  create the input that the tensorflow expects"
   ]
  },
  {
   "cell_type": "code",
   "execution_count": 46,
   "id": "b066fb54",
   "metadata": {},
   "outputs": [],
   "source": [
    "train_x = np.array(training_padded)\n",
    "train_y = np.array(y_train)\n",
    "\n",
    "\n",
    "test_x = np.array(test_padded)\n",
    "test_y = np.array(y_test)"
   ]
  },
  {
   "cell_type": "code",
   "execution_count": 47,
   "id": "f3fbaa5e",
   "metadata": {},
   "outputs": [],
   "source": [
    "from tensorflow.keras.utils import to_categorical\n",
    "\n",
    "\n",
    "train_y = to_categorical(train_y,num_classes=6)\n",
    "test_y = to_categorical(test_y,num_classes=6)"
   ]
  },
  {
   "cell_type": "code",
   "execution_count": null,
   "id": "7f481bd7",
   "metadata": {},
   "outputs": [],
   "source": []
  },
  {
   "cell_type": "markdown",
   "id": "44947682",
   "metadata": {},
   "source": [
    "### save best weights at training "
   ]
  },
  {
   "cell_type": "code",
   "execution_count": 48,
   "id": "74e6be1a",
   "metadata": {},
   "outputs": [],
   "source": [
    "\n",
    "import tensorflow as tf\n",
    "\n",
    "cp_callback = tf.keras.callbacks.ModelCheckpoint(monitor='vall_loss',\n",
    "    filepath='model_best.h5',\n",
    "                                                 save_weights_only=True,\n",
    "                                                 verbose=1)"
   ]
  },
  {
   "cell_type": "code",
   "execution_count": null,
   "id": "7eaa3da2",
   "metadata": {},
   "outputs": [],
   "source": []
  },
  {
   "cell_type": "code",
   "execution_count": null,
   "id": "f0441d6e",
   "metadata": {},
   "outputs": [],
   "source": []
  },
  {
   "cell_type": "markdown",
   "id": "abdf82ba",
   "metadata": {},
   "source": [
    "### model\n"
   ]
  },
  {
   "cell_type": "code",
   "execution_count": 49,
   "id": "2d4cd91c",
   "metadata": {},
   "outputs": [],
   "source": [
    "\n",
    "\n",
    "from tensorflow.keras.models import Sequential\n",
    "\n",
    "from tensorflow.keras.layers import *"
   ]
  },
  {
   "cell_type": "code",
   "execution_count": 50,
   "id": "08a2e6b8",
   "metadata": {},
   "outputs": [
    {
     "name": "stdout",
     "output_type": "stream",
     "text": [
      "WARNING:tensorflow:From C:\\Users\\mplan\\anaconda3\\Lib\\site-packages\\keras\\src\\backend.py:873: The name tf.get_default_graph is deprecated. Please use tf.compat.v1.get_default_graph instead.\n",
      "\n",
      "Model: \"sequential\"\n",
      "_________________________________________________________________\n",
      " Layer (type)                Output Shape              Param #   \n",
      "=================================================================\n",
      " embedding (Embedding)       (None, 1330, 20)          1000000   \n",
      "                                                                 \n",
      " global_average_pooling1d (  (None, 20)                0         \n",
      " GlobalAveragePooling1D)                                         \n",
      "                                                                 \n",
      " dense (Dense)               (None, 20)                420       \n",
      "                                                                 \n",
      " batch_normalization (Batch  (None, 20)                80        \n",
      " Normalization)                                                  \n",
      "                                                                 \n",
      " dense_1 (Dense)             (None, 6)                 126       \n",
      "                                                                 \n",
      "=================================================================\n",
      "Total params: 1000626 (3.82 MB)\n",
      "Trainable params: 1000586 (3.82 MB)\n",
      "Non-trainable params: 40 (160.00 Byte)\n",
      "_________________________________________________________________\n"
     ]
    }
   ],
   "source": [
    "model = Sequential()\n",
    "\n",
    "model.add(Embedding(50000,output_dim=20,input_length=size_))\n",
    "model.add(GlobalAveragePooling1D())\n",
    "model.add(Dense(20,'relu',kernel_regularizer='l1_l2'))\n",
    "model.add(BatchNormalization())\n",
    "model.add(Dense(6,'softmax'))\n",
    "\n",
    "model.summary()\n"
   ]
  },
  {
   "cell_type": "code",
   "execution_count": 51,
   "id": "70ebce90",
   "metadata": {},
   "outputs": [
    {
     "name": "stdout",
     "output_type": "stream",
     "text": [
      "WARNING:tensorflow:From C:\\Users\\mplan\\anaconda3\\Lib\\site-packages\\keras\\src\\optimizers\\__init__.py:309: The name tf.train.Optimizer is deprecated. Please use tf.compat.v1.train.Optimizer instead.\n",
      "\n"
     ]
    }
   ],
   "source": [
    "model.compile(loss='categorical_crossentropy',optimizer='adam',metrics=['accuracy'])"
   ]
  },
  {
   "cell_type": "code",
   "execution_count": 52,
   "id": "aa8e9a89",
   "metadata": {},
   "outputs": [
    {
     "name": "stdout",
     "output_type": "stream",
     "text": [
      "Epoch 1/10\n",
      "WARNING:tensorflow:From C:\\Users\\mplan\\anaconda3\\Lib\\site-packages\\keras\\src\\utils\\tf_utils.py:492: The name tf.ragged.RaggedTensorValue is deprecated. Please use tf.compat.v1.ragged.RaggedTensorValue instead.\n",
      "\n",
      "WARNING:tensorflow:From C:\\Users\\mplan\\anaconda3\\Lib\\site-packages\\keras\\src\\engine\\base_layer_utils.py:384: The name tf.executing_eagerly_outside_functions is deprecated. Please use tf.compat.v1.executing_eagerly_outside_functions instead.\n",
      "\n",
      "525/525 [==============================] - ETA: 0s - loss: 1.4479 - accuracy: 0.6690\n",
      "Epoch 1: saving model to model_best.h5\n",
      "525/525 [==============================] - 12s 19ms/step - loss: 1.4479 - accuracy: 0.6690 - val_loss: 1.2452 - val_accuracy: 0.6360\n",
      "Epoch 2/10\n",
      "525/525 [==============================] - ETA: 0s - loss: 0.8085 - accuracy: 0.7873\n",
      "Epoch 2: saving model to model_best.h5\n",
      "525/525 [==============================] - 10s 19ms/step - loss: 0.8085 - accuracy: 0.7873 - val_loss: 0.8364 - val_accuracy: 0.7709\n",
      "Epoch 3/10\n",
      "522/525 [============================>.] - ETA: 0s - loss: 0.6969 - accuracy: 0.8039\n",
      "Epoch 3: saving model to model_best.h5\n",
      "525/525 [==============================] - 9s 17ms/step - loss: 0.6965 - accuracy: 0.8040 - val_loss: 1.3877 - val_accuracy: 0.5190\n",
      "Epoch 4/10\n",
      "523/525 [============================>.] - ETA: 0s - loss: 0.6176 - accuracy: 0.8191\n",
      "Epoch 4: saving model to model_best.h5\n",
      "525/525 [==============================] - 10s 20ms/step - loss: 0.6177 - accuracy: 0.8190 - val_loss: 1.5543 - val_accuracy: 0.5654\n",
      "Epoch 5/10\n",
      "525/525 [==============================] - ETA: 0s - loss: 0.5415 - accuracy: 0.8419\n",
      "Epoch 5: saving model to model_best.h5\n",
      "525/525 [==============================] - 10s 20ms/step - loss: 0.5415 - accuracy: 0.8419 - val_loss: 0.9538 - val_accuracy: 0.6236\n",
      "Epoch 6/10\n",
      "523/525 [============================>.] - ETA: 0s - loss: 0.4785 - accuracy: 0.8648\n",
      "Epoch 6: saving model to model_best.h5\n",
      "525/525 [==============================] - 11s 20ms/step - loss: 0.4783 - accuracy: 0.8648 - val_loss: 0.7102 - val_accuracy: 0.7771\n",
      "Epoch 7/10\n",
      "523/525 [============================>.] - ETA: 0s - loss: 0.4232 - accuracy: 0.8822\n",
      "Epoch 7: saving model to model_best.h5\n",
      "525/525 [==============================] - 10s 20ms/step - loss: 0.4233 - accuracy: 0.8821 - val_loss: 0.7752 - val_accuracy: 0.7530\n",
      "Epoch 8/10\n",
      "524/525 [============================>.] - ETA: 0s - loss: 0.3732 - accuracy: 0.8995\n",
      "Epoch 8: saving model to model_best.h5\n",
      "525/525 [==============================] - 11s 21ms/step - loss: 0.3731 - accuracy: 0.8996 - val_loss: 1.3838 - val_accuracy: 0.6775\n",
      "Epoch 9/10\n",
      "523/525 [============================>.] - ETA: 0s - loss: 0.3297 - accuracy: 0.9189\n",
      "Epoch 9: saving model to model_best.h5\n",
      "525/525 [==============================] - 10s 19ms/step - loss: 0.3297 - accuracy: 0.9188 - val_loss: 1.0152 - val_accuracy: 0.7642\n",
      "Epoch 10/10\n",
      "524/525 [============================>.] - ETA: 0s - loss: 0.2983 - accuracy: 0.9302\n",
      "Epoch 10: saving model to model_best.h5\n",
      "525/525 [==============================] - 11s 20ms/step - loss: 0.2983 - accuracy: 0.9303 - val_loss: 1.4867 - val_accuracy: 0.6558\n"
     ]
    }
   ],
   "source": [
    "hist = model.fit(train_x,train_y,epochs=10,validation_data=(test_x,test_y),callbacks=[cp_callback])"
   ]
  },
  {
   "cell_type": "code",
   "execution_count": null,
   "id": "6f4de2c8",
   "metadata": {},
   "outputs": [],
   "source": []
  },
  {
   "cell_type": "code",
   "execution_count": null,
   "id": "8fd6409e",
   "metadata": {},
   "outputs": [],
   "source": []
  },
  {
   "cell_type": "code",
   "execution_count": 53,
   "id": "b5b2b182",
   "metadata": {},
   "outputs": [],
   "source": [
    "model.load_weights('model_best.h5')"
   ]
  },
  {
   "cell_type": "code",
   "execution_count": null,
   "id": "3a6db3c7",
   "metadata": {},
   "outputs": [],
   "source": []
  },
  {
   "cell_type": "code",
   "execution_count": null,
   "id": "04aa9e05",
   "metadata": {},
   "outputs": [],
   "source": []
  },
  {
   "cell_type": "markdown",
   "id": "5eb7938f",
   "metadata": {},
   "source": [
    "### predictions and metrics "
   ]
  },
  {
   "cell_type": "code",
   "execution_count": 100,
   "id": "575be3ec",
   "metadata": {},
   "outputs": [
    {
     "name": "stdout",
     "output_type": "stream",
     "text": [
      "132/132 [==============================] - 1s 4ms/step\n"
     ]
    }
   ],
   "source": [
    "preds = model.predict(test_x)"
   ]
  },
  {
   "cell_type": "code",
   "execution_count": null,
   "id": "5cf9b308",
   "metadata": {},
   "outputs": [],
   "source": []
  },
  {
   "cell_type": "markdown",
   "id": "47818705",
   "metadata": {},
   "source": [
    "### a function to return the argmax of preds:\n"
   ]
  },
  {
   "cell_type": "code",
   "execution_count": 101,
   "id": "3d96b4f7",
   "metadata": {},
   "outputs": [],
   "source": [
    "def ys(x):\n",
    "    y = []\n",
    "    for i in x:\n",
    "        a = np.argmax(i)\n",
    "        y.append(a)\n",
    "    return y \n",
    "    "
   ]
  },
  {
   "cell_type": "code",
   "execution_count": 102,
   "id": "fa9c647d",
   "metadata": {},
   "outputs": [],
   "source": [
    "y_pred = ys(preds)\n",
    "y_test = ys(test_y)"
   ]
  },
  {
   "cell_type": "code",
   "execution_count": null,
   "id": "41967895",
   "metadata": {},
   "outputs": [],
   "source": []
  },
  {
   "cell_type": "code",
   "execution_count": 89,
   "id": "83067fd1",
   "metadata": {},
   "outputs": [],
   "source": [
    "from sklearn.metrics import accuracy_score,confusion_matrix,f1_score,hamming_loss"
   ]
  },
  {
   "cell_type": "code",
   "execution_count": null,
   "id": "b1c815f7",
   "metadata": {},
   "outputs": [],
   "source": []
  },
  {
   "cell_type": "markdown",
   "id": "2f6b8d26",
   "metadata": {},
   "source": [
    "### a function for metrics  : "
   ]
  },
  {
   "cell_type": "code",
   "execution_count": 107,
   "id": "4431c2e0",
   "metadata": {},
   "outputs": [
    {
     "name": "stdout",
     "output_type": "stream",
     "text": [
      "accuracy 0.6557806912991657  f1 score 0.6557806912991657   hammingloss 0.34421930870083434\n"
     ]
    }
   ],
   "source": [
    "def metrics(y_pred,y_test = y_test):\n",
    "    ac = accuracy_score(y_pred,y_test)\n",
    "    f1 = f1_score(y_pred,y_test,average='micro')\n",
    "    hloss = hamming_loss(y_pred,y_test)\n",
    "    print(f'accuracy { ac}  f1 score {f1}   hammingloss {hloss}')\n",
    "\n",
    "\n",
    "\n",
    "metrics(y_pred)"
   ]
  },
  {
   "cell_type": "code",
   "execution_count": 91,
   "id": "f17addc4",
   "metadata": {},
   "outputs": [
    {
     "data": {
      "text/plain": [
       "<Axes: >"
      ]
     },
     "execution_count": 91,
     "metadata": {},
     "output_type": "execute_result"
    },
    {
     "data": {
      "image/png": "[encoded data removed]",
      "text/plain": [
       "<Figure size 640x480 with 2 Axes>"
      ]
     },
     "metadata": {},
     "output_type": "display_data"
    }
   ],
   "source": [
    "import seaborn as sns\n",
    "\n",
    "cm  = confusion_matrix(y_pred,y_test)\n",
    "\n",
    "sns.heatmap(cm,annot=True,fmt='.0f')"
   ]
  },
  {
   "cell_type": "code",
   "execution_count": null,
   "id": "63280bbd",
   "metadata": {},
   "outputs": [],
   "source": []
  },
  {
   "cell_type": "code",
   "execution_count": null,
   "id": "07ca3d57",
   "metadata": {},
   "outputs": [],
   "source": []
  },
  {
   "cell_type": "code",
   "execution_count": null,
   "id": "292d844a",
   "metadata": {},
   "outputs": [],
   "source": [
    "\n"
   ]
  },
  {
   "cell_type": "code",
   "execution_count": null,
   "id": "d97bb96b",
   "metadata": {},
   "outputs": [],
   "source": []
  },
  {
   "cell_type": "markdown",
   "id": "2b71c33e",
   "metadata": {},
   "source": [
    "# now lets use a  pretrainded model SciBERT: A Pretrained Language Model for Scientific Text"
   ]
  },
  {
   "cell_type": "code",
   "execution_count": 32,
   "id": "02cbaa6d",
   "metadata": {},
   "outputs": [
    {
     "name": "stdout",
     "output_type": "stream",
     "text": [
      "WARNING:tensorflow:From C:\\Users\\mplan\\anaconda3\\Lib\\site-packages\\keras\\src\\losses.py:2976: The name tf.losses.sparse_softmax_cross_entropy is deprecated. Please use tf.compat.v1.losses.sparse_softmax_cross_entropy instead.\n",
      "\n"
     ]
    }
   ],
   "source": [
    "#make y a good input\n",
    "\n",
    "from tensorflow.keras.utils import to_categorical\n",
    "\n",
    "\n",
    "y = to_categorical(y,num_classes=6)\n"
   ]
  },
  {
   "cell_type": "code",
   "execution_count": 33,
   "id": "ac20b2d2",
   "metadata": {},
   "outputs": [],
   "source": [
    "x = [str(i) for i in x]"
   ]
  },
  {
   "cell_type": "code",
   "execution_count": null,
   "id": "1ce38215",
   "metadata": {},
   "outputs": [],
   "source": []
  },
  {
   "cell_type": "code",
   "execution_count": null,
   "id": "39ce3edf",
   "metadata": {},
   "outputs": [],
   "source": []
  },
  {
   "cell_type": "code",
   "execution_count": 34,
   "id": "0393af5a",
   "metadata": {},
   "outputs": [
    {
     "data": {
      "text/plain": [
       "(512, 20972)"
      ]
     },
     "execution_count": 34,
     "metadata": {},
     "output_type": "execute_result"
    }
   ],
   "source": [
    "import transformers\n",
    "\n",
    "\n",
    "seq_len = 512\n",
    "num_samples = len(x)\n",
    "seq_len,num_samples"
   ]
  },
  {
   "cell_type": "code",
   "execution_count": 35,
   "id": "d26fbc72",
   "metadata": {},
   "outputs": [],
   "source": [
    "from transformers import BertTokenizer\n"
   ]
  },
  {
   "cell_type": "code",
   "execution_count": 36,
   "id": "74b64aeb",
   "metadata": {},
   "outputs": [],
   "source": [
    "tokenizer = BertTokenizer.from_pretrained('allenai/scibert_scivocab_uncased')"
   ]
  },
  {
   "cell_type": "code",
   "execution_count": 37,
   "id": "c8f0f35b",
   "metadata": {},
   "outputs": [],
   "source": [
    "# fit x to tokenizer\n",
    "\n",
    "tokens = tokenizer(x,max_length=seq_len,truncation=True,padding='max_length',add_special_tokens=True,return_tensors='np')"
   ]
  },
  {
   "cell_type": "code",
   "execution_count": 38,
   "id": "9505784e",
   "metadata": {},
   "outputs": [
    {
     "data": {
      "text/plain": [
       "dict_keys(['input_ids', 'token_type_ids', 'attention_mask'])"
      ]
     },
     "execution_count": 38,
     "metadata": {},
     "output_type": "execute_result"
    }
   ],
   "source": [
    "# see the keys\n",
    "\n",
    "tokens.keys()"
   ]
  },
  {
   "cell_type": "code",
   "execution_count": 39,
   "id": "a0ac4970",
   "metadata": {},
   "outputs": [],
   "source": [
    "input_ids = tokens['input_ids']"
   ]
  },
  {
   "cell_type": "code",
   "execution_count": 40,
   "id": "92417afe",
   "metadata": {},
   "outputs": [],
   "source": [
    "attention_mask = tokens['attention_mask']"
   ]
  },
  {
   "cell_type": "code",
   "execution_count": 41,
   "id": "9d4b5dd4",
   "metadata": {},
   "outputs": [
    {
     "data": {
      "text/plain": [
       "((20972, 512), (20972, 512))"
      ]
     },
     "execution_count": 41,
     "metadata": {},
     "output_type": "execute_result"
    }
   ],
   "source": [
    "input_ids.shape,attention_mask.shape"
   ]
  },
  {
   "cell_type": "code",
   "execution_count": 42,
   "id": "2c4976b1",
   "metadata": {},
   "outputs": [],
   "source": [
    "# make it a tf datset\n",
    "\n",
    "import tensorflow as tf\n",
    "\n",
    "dataset = tf.data.Dataset.from_tensor_slices((input_ids,attention_mask,y))"
   ]
  },
  {
   "cell_type": "code",
   "execution_count": 43,
   "id": "8ec49b04",
   "metadata": {},
   "outputs": [
    {
     "data": {
      "text/plain": [
       "<_TakeDataset element_spec=(TensorSpec(shape=(512,), dtype=tf.int32, name=None), TensorSpec(shape=(512,), dtype=tf.int32, name=None), TensorSpec(shape=(6,), dtype=tf.float32, name=None))>"
      ]
     },
     "execution_count": 43,
     "metadata": {},
     "output_type": "execute_result"
    }
   ],
   "source": [
    "dataset.take(1)"
   ]
  },
  {
   "cell_type": "code",
   "execution_count": null,
   "id": "3eaa8508",
   "metadata": {},
   "outputs": [],
   "source": []
  },
  {
   "cell_type": "code",
   "execution_count": null,
   "id": "cbc7afd1",
   "metadata": {},
   "outputs": [],
   "source": []
  },
  {
   "cell_type": "code",
   "execution_count": 44,
   "id": "efa61ce9",
   "metadata": {},
   "outputs": [],
   "source": [
    "#make the input dict:\n",
    "\n",
    "\n",
    "def dictt(input_ids,attention_mask,y):\n",
    "    return {'input_ids':input_ids,'attention_mask':attention_mask\n",
    "            },y\n",
    "\n",
    "\n",
    "dataset = dataset.map(dictt)"
   ]
  },
  {
   "cell_type": "code",
   "execution_count": 45,
   "id": "ba8e9d6c",
   "metadata": {},
   "outputs": [],
   "source": [
    "# prepare the training\n",
    "\n",
    "batch_s = 16\n",
    "\n",
    "dataset = dataset.shuffle(10000)\n",
    "\n",
    "dataset = dataset.batch(batch_s,drop_remainder=False)"
   ]
  },
  {
   "cell_type": "code",
   "execution_count": 46,
   "id": "d428efdc",
   "metadata": {},
   "outputs": [],
   "source": [
    "#split in train test \n",
    "split = 0.8\n",
    "\n",
    "train_size = train_size = int((input_ids.shape[0]/batch_s)* split )\n",
    "\n",
    "\n",
    "train_ds = dataset.take(train_size)\n",
    "test_ds = dataset.skip(train_size)"
   ]
  },
  {
   "cell_type": "code",
   "execution_count": null,
   "id": "9fc854b0",
   "metadata": {},
   "outputs": [],
   "source": []
  },
  {
   "cell_type": "markdown",
   "id": "845ecf9e",
   "metadata": {},
   "source": [
    "# create the model "
   ]
  },
  {
   "cell_type": "code",
   "execution_count": 47,
   "id": "9328e1bf",
   "metadata": {},
   "outputs": [
    {
     "name": "stdout",
     "output_type": "stream",
     "text": [
      "WARNING:tensorflow:From C:\\Users\\mplan\\anaconda3\\Lib\\site-packages\\keras\\src\\backend.py:873: The name tf.get_default_graph is deprecated. Please use tf.compat.v1.get_default_graph instead.\n",
      "\n"
     ]
    },
    {
     "name": "stderr",
     "output_type": "stream",
     "text": [
      "Some weights of the PyTorch model were not used when initializing the TF 2.0 model TFBertModel: ['cls.seq_relationship.bias', 'cls.predictions.transform.LayerNorm.weight', 'cls.predictions.transform.LayerNorm.bias', 'cls.predictions.bias', 'cls.predictions.decoder.bias', 'cls.predictions.decoder.weight', 'cls.predictions.transform.dense.weight', 'cls.seq_relationship.weight', 'cls.predictions.transform.dense.bias']\n",
      "- This IS expected if you are initializing TFBertModel from a PyTorch model trained on another task or with another architecture (e.g. initializing a TFBertForSequenceClassification model from a BertForPreTraining model).\n",
      "- This IS NOT expected if you are initializing TFBertModel from a PyTorch model that you expect to be exactly identical (e.g. initializing a TFBertForSequenceClassification model from a BertForSequenceClassification model).\n",
      "All the weights of TFBertModel were initialized from the PyTorch model.\n",
      "If your task is similar to the task the model of the checkpoint was trained on, you can already use TFBertModel for predictions without further training.\n"
     ]
    }
   ],
   "source": [
    "from transformers import TFAutoModel \n",
    "\n",
    "\n",
    "model = TFAutoModel.from_pretrained('allenai/scibert_scivocab_uncased',from_pt=True)"
   ]
  },
  {
   "cell_type": "markdown",
   "id": "175f72a8",
   "metadata": {},
   "source": [
    "# make the model suitable to our data "
   ]
  },
  {
   "cell_type": "code",
   "execution_count": 48,
   "id": "fafa181f",
   "metadata": {},
   "outputs": [],
   "source": [
    "import tensorflow as tf\n",
    "from tensorflow.keras.layers import *\n",
    "from tensorflow.keras.models import Model\n",
    "\n",
    "\n",
    "\n",
    "\n",
    "\n",
    "\n",
    "# input layers \n",
    "input_ids_layer = tf.keras.layers.Input(shape=(512,),name='input_ids',dtype='int32')\n",
    "\n",
    "mask_layer = tf.keras.layers.Input(shape=(512,),name='attention_mask',dtype='int32')\n",
    "\n",
    "\n",
    "# transformer layer\n",
    "embedings = model.bert(input_ids_layer,attention_mask =mask_layer )[1]\n",
    "\n",
    "#classifier \n",
    "\n",
    "dense1 = Dense(500,activation='relu')(embedings)\n",
    "out = Dense(6,activation='softmax')(dense1)\n",
    "\n",
    "\n",
    "\n",
    "\n",
    "\n",
    "model = Model(inputs=[input_ids_layer,mask_layer],outputs = out)"
   ]
  },
  {
   "cell_type": "code",
   "execution_count": 49,
   "id": "ea5b3e55",
   "metadata": {},
   "outputs": [],
   "source": [
    "# make bert layer not trainable\n",
    "model.layers[2].trainable=False"
   ]
  },
  {
   "cell_type": "code",
   "execution_count": 50,
   "id": "28e3cb1a",
   "metadata": {},
   "outputs": [
    {
     "name": "stdout",
     "output_type": "stream",
     "text": [
      "Model: \"model\"\n",
      "__________________________________________________________________________________________________\n",
      " Layer (type)                Output Shape                 Param #   Connected to                  \n",
      "==================================================================================================\n",
      " input_ids (InputLayer)      [(None, 512)]                0         []                            \n",
      "                                                                                                  \n",
      " attention_mask (InputLayer  [(None, 512)]                0         []                            \n",
      " )                                                                                                \n",
      "                                                                                                  \n",
      " bert (TFBertMainLayer)      TFBaseModelOutputWithPooli   1099184   ['input_ids[0][0]',           \n",
      "                             ngAndCrossAttentions(last_   64         'attention_mask[0][0]']      \n",
      "                             hidden_state=(None, 512, 7                                           \n",
      "                             68),                                                                 \n",
      "                              pooler_output=(None, 768)                                           \n",
      "                             , past_key_values=None, hi                                           \n",
      "                             dden_states=None, attentio                                           \n",
      "                             ns=None, cross_attentions=                                           \n",
      "                             None)                                                                \n",
      "                                                                                                  \n",
      " dense (Dense)               (None, 500)                  384500    ['bert[0][1]']                \n",
      "                                                                                                  \n",
      " dense_1 (Dense)             (None, 6)                    3006      ['dense[0][0]']               \n",
      "                                                                                                  \n",
      "==================================================================================================\n",
      "Total params: 110305970 (420.78 MB)\n",
      "Trainable params: 387506 (1.48 MB)\n",
      "Non-trainable params: 109918464 (419.31 MB)\n",
      "__________________________________________________________________________________________________\n"
     ]
    }
   ],
   "source": [
    "model.summary()"
   ]
  },
  {
   "cell_type": "code",
   "execution_count": 51,
   "id": "8b2d7b51",
   "metadata": {},
   "outputs": [],
   "source": [
    "optimizer = tf.keras.optimizers.Adam(learning_rate=5e-5)\n",
    "\n",
    "loss = tf.keras.losses.CategoricalCrossentropy()\n",
    "acc = tf.keras.metrics.CategoricalAccuracy('accuracy')\n",
    "\n",
    "model.compile(optimizer=optimizer,loss=loss,metrics=[acc])"
   ]
  },
  {
   "cell_type": "code",
   "execution_count": 53,
   "id": "d12ea947",
   "metadata": {},
   "outputs": [
    {
     "name": "stdout",
     "output_type": "stream",
     "text": [
      "Epoch 1/4\n",
      "1048/1048 [==============================] - 27991s 27s/step - loss: 0.8176 - accuracy: 0.7410 - val_loss: 0.6056 - val_accuracy: 0.7938\n",
      "Epoch 2/4\n",
      "1048/1048 [==============================] - 27986s 27s/step - loss: 0.6508 - accuracy: 0.7718 - val_loss: 0.5964 - val_accuracy: 0.7847\n",
      "Epoch 3/4\n",
      "1048/1048 [==============================] - 28027s 27s/step - loss: 0.6233 - accuracy: 0.7810 - val_loss: 0.5628 - val_accuracy: 0.7971\n",
      "Epoch 4/4\n",
      "1048/1048 [==============================] - 28064s 27s/step - loss: 0.6036 - accuracy: 0.7869 - val_loss: 0.5694 - val_accuracy: 0.7952\n"
     ]
    }
   ],
   "source": [
    "hist = model.fit(train_ds,validation_data=test_ds,epochs=4)"
   ]
  },
  {
   "cell_type": "code",
   "execution_count": 54,
   "id": "8900d9df",
   "metadata": {},
   "outputs": [
    {
     "name": "stdout",
     "output_type": "stream",
     "text": [
      "263/263 [==============================] - 4059s 15s/step\n"
     ]
    }
   ],
   "source": [
    "preds2 = model.predict(test_ds)"
   ]
  },
  {
   "cell_type": "code",
   "execution_count": null,
   "id": "7980a466",
   "metadata": {},
   "outputs": [],
   "source": []
  },
  {
   "cell_type": "code",
   "execution_count": 129,
   "id": "1fa380ce",
   "metadata": {},
   "outputs": [],
   "source": [
    "actuals = []\n",
    "for i in test_ds.unbatch().take(4204):\n",
    "    x = i\n",
    "    actuals.append(np.argmax(x[1]))\n",
    "    \n",
    "    "
   ]
  },
  {
   "cell_type": "code",
   "execution_count": 130,
   "id": "2f55db59",
   "metadata": {},
   "outputs": [],
   "source": [
    "predicted = [np.argmax(i) for i in preds2]"
   ]
  },
  {
   "cell_type": "code",
   "execution_count": 131,
   "id": "8be749c4",
   "metadata": {},
   "outputs": [],
   "source": [
    "import seaborn as sns\n",
    "from sklearn.metrics import confusion_matrix "
   ]
  },
  {
   "cell_type": "code",
   "execution_count": 133,
   "id": "5f6f4348",
   "metadata": {},
   "outputs": [
    {
     "data": {
      "text/plain": [
       "<Axes: >"
      ]
     },
     "execution_count": 133,
     "metadata": {},
     "output_type": "execute_result"
    },
    {
     "data": {
      "image/png": "[encoded data removed]",
      "text/plain": [
       "<Figure size 640x480 with 2 Axes>"
      ]
     },
     "metadata": {},
     "output_type": "display_data"
    }
   ],
   "source": [
    "cm = confusion_matrix(actuals,predicted)\n",
    "sns.heatmap(cm,annot=True,fmt='.0f')"
   ]
  },
  {
   "cell_type": "code",
   "execution_count": 143,
   "id": "d4600a12",
   "metadata": {},
   "outputs": [],
   "source": [
    "# save predictions \n",
    "with open('predicted.txt','w') as f:\n",
    "    for i in predicted:\n",
    "        f.write(str(i))\n",
    "f.close()"
   ]
  },
  {
   "cell_type": "code",
   "execution_count": 144,
   "id": "1f4690b1",
   "metadata": {},
   "outputs": [],
   "source": [
    "# save predictions \n",
    "with open('actuals.txt','w') as f:\n",
    "    for i in actuals:\n",
    "        f.write(str(i))\n",
    "f.close()"
   ]
  },
  {
   "cell_type": "code",
   "execution_count": null,
   "id": "07fc9085",
   "metadata": {},
   "outputs": [],
   "source": []
  }
 ],
 "metadata": {
  "kernelspec": {
   "display_name": "Python 3 (ipykernel)",
   "language": "python",
   "name": "python3"
  },
  "language_info": {
   "codemirror_mode": {
    "name": "ipython",
    "version": 3
   },
   "file_extension": ".py",
   "mimetype": "text/x-python",
   "name": "python",
   "nbconvert_exporter": "python",
   "pygments_lexer": "ipython3",
   "version": "3.11.5"
  }
 },
 "nbformat": 4,
 "nbformat_minor": 5
}
